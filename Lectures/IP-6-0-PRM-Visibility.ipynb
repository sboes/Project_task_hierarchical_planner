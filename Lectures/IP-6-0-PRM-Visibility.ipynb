{
 "cells": [
  {
   "cell_type": "markdown",
   "metadata": {
    "tags": []
   },
   "source": [
    "PRM - Visibility PRM\n",
    "======================\n",
    "\n",
    "This code is part of the course \"Introduction to robot path planning\" (Author: Bjoern Hein).\n",
    "\n",
    "Version | Author\n",
    "------------ | -------------\n",
    "0.2 | Björn Hein\n",
    "\n",
    "License is based on Creative Commons: Attribution-NonCommercial 4.0 International (CC BY-NC 4.0) (pls. check: http://creativecommons.org/licenses/by-nc/4.0/)\n",
    "\n",
    "Important links are:\n",
    "\n",
    "    General Info: http://www.python.org\n",
    "    Python tutorial http://www.python.org/doc/tut/\n",
    "    NetworkX http://networkx.github.io/\n",
    "    NumPy and SciPy Guide http://docs.scipy.org/\n",
    "    Matplotlib gallery http://matplotlib.sourceforge.net/gallery.html\n",
    "    \n",
    "\n",
    "Remember that:\n",
    "\n",
    "    you have to press ctrl-return or shift-return, to execute the code in the code sections, only then the variables are \"generated\" and can be used\n",
    "    you can execute the whole notebook by Cell->runAll\n",
    "\n",
    "\n",
    "\n"
   ]
  },
  {
   "cell_type": "markdown",
   "metadata": {},
   "source": [
    "Visibility Roadmap\n",
    "==================\n",
    "\n",
    "*Slightly modified* as described in the slides. See comments in code (IPVisibilityPRM.py). First tests could look like"
   ]
  },
  {
   "cell_type": "code",
   "execution_count": null,
   "metadata": {},
   "outputs": [],
   "source": [
    "from IPVisibilityPRM import VisPRM\n",
    "from IPVISBasicPRM import basicPRMVisualize\n",
    "import matplotlib.pylab as plt"
   ]
  },
  {
   "cell_type": "code",
   "execution_count": null,
   "metadata": {},
   "outputs": [],
   "source": [
    "import IPTestSuite as ts"
   ]
  },
  {
   "cell_type": "code",
   "execution_count": null,
   "metadata": {
    "scrolled": true
   },
   "outputs": [],
   "source": [
    "visConfig = dict()\n",
    "visConfig[\"ntry\"] = 40\n",
    "\n",
    "for benchmark in ts.benchList:\n",
    "    try:\n",
    "        fig_local = plt.figure(figsize=(10,10))\n",
    "        ax = fig_local.add_subplot(1,1,1)\n",
    "        vis = VisPRM(benchmark.collisionChecker)\n",
    "        solution = vis.planPath(benchmark.startList, benchmark.goalList, visConfig)\n",
    "        title = benchmark.name\n",
    "        if solution == []:\n",
    "            title += \" (No path found!)\"\n",
    "        title += \"\\n Assumed complexity level \" + str(benchmark.level)\n",
    "        ax.set_title(title)\n",
    "        basicPRMVisualize(vis, solution, ax=ax, nodeSize=50)\n",
    "    except Exception as e:\n",
    "        print(\"ERROR: \",benchmark.name, e)"
   ]
  },
  {
   "cell_type": "markdown",
   "metadata": {},
   "source": [
    "---\n",
    "\n",
    "It is ovbious that the roadmaps are significantly smaller then the approach proposed in BasicPRM. But it is not obvious, whats happening in the algorithm. Therefore there is the idea to collect more data via a StatsHandler, it could look like this:\n",
    "\n",
    "```python\n",
    "class VisibilityStatsHandler():\n",
    "    \n",
    "    def __init__(self):\n",
    "        self.graph = nx.Graph()\n",
    "        \n",
    "    def addNodeAtPos(self,nodeNumber,pos):\n",
    "        self.graph.add_node(nodeNumber, pos=pos, color='yellow')\n",
    "        return\n",
    "    \n",
    "    def addVisTest(self,fr,to):\n",
    "        self.graph.add_edge(fr, to)\n",
    "        return\n",
    "```\n",
    "\n",
    "Basically the idea is to, collect information about all nodes and edges checked during the planning process as they are removed or - better - not added, if they are redundant.\n",
    "\n",
    "Therefore also the visualisation must be adapted, e.g. like:\n",
    "\n",
    "```python\n",
    "def visibilityPRMVisualize(planner, solution, ax = None, nodeSize = 300):\n",
    "    # get a list of positions of all nodes by returning the content of the attribute 'pos'\n",
    "    graph = planner.graph\n",
    "    statsHandler = planner.statsHandler\n",
    "    collChecker = planner._collisionChecker\n",
    "    pos = nx.get_node_attributes(graph,'pos')\n",
    "    color = nx.get_node_attributes(graph,'color')\n",
    "    \n",
    "    if statsHandler:\n",
    "        statPos = nx.get_node_attributes(statsHandler.graph,'pos')\n",
    "        nx.draw(statsHandler.graph, pos=statPos, alpha=0.2,edge_color='y',node_size=nodeSize)\n",
    "        \n",
    "    # draw graph (nodes colorized by degree)\n",
    "    nx.draw(graph, pos = pos, nodelist=color.keys(), node_color = color.values(), ax=ax)   \n",
    "    nx.draw_networkx_edges(graph,pos,\n",
    "                               edge_color='b',\n",
    "                               width=3.0, ax=ax\n",
    "                            )\n",
    "   \n",
    "    collChecker.drawObstacles(ax)\n",
    "    # get nodes based on solution path\n",
    "    Gsp = nx.subgraph(graph,solution)\n",
    "\n",
    "    # draw edges based on solution path\n",
    "    nx.draw_networkx_edges(Gsp,pos,alpha=0.8,edge_color='g',width=10, label=\"Solution Path\",ax=ax)\n",
    "        \n",
    "    # draw start and goal\n",
    "    # draw start and goal\n",
    "    if \"start\" in graph.nodes(): \n",
    "        nx.draw_networkx_nodes(graph,pos,nodelist=[\"start\"],\n",
    "                                   node_size=nodeSize,\n",
    "                                   node_color='#00dd00',  ax = ax)\n",
    "        nx.draw_networkx_labels(graph,pos,labels={\"start\": \"S\"},  ax = ax)\n",
    "\n",
    "\n",
    "    if \"goal\" in graph.nodes():\n",
    "        nx.draw_networkx_nodes(graph,pos,nodelist=[\"goal\"],\n",
    "                                   node_size=nodeSize,\n",
    "                                   node_color='#DD0000',  ax = ax)\n",
    "        nx.draw_networkx_labels(graph,pos,labels={\"goal\": \"G\"},  ax = ax)\n",
    "\n",
    "```\n",
    "\n",
    "This would then be incorporated in the corresponding module IPVisibilityPRM.\n",
    "\n",
    "With this the following would be possible"
   ]
  },
  {
   "cell_type": "code",
   "execution_count": null,
   "metadata": {},
   "outputs": [],
   "source": [
    "from IPVisibilityPRM import VisPRM\n",
    "from IPVisibilityPRM import VisibilityStatsHandler\n",
    "from IPVISVisibilityPRM import visibilityPRMVisualize\n",
    "import matplotlib.pylab as plt"
   ]
  },
  {
   "cell_type": "code",
   "execution_count": null,
   "metadata": {},
   "outputs": [],
   "source": [
    "import IPTestSuite as ts"
   ]
  },
  {
   "cell_type": "code",
   "execution_count": null,
   "metadata": {
    "jupyter": {
     "source_hidden": true
    }
   },
   "outputs": [],
   "source": [
    "visConfig = dict()\n",
    "visConfig[\"ntry\"] = 40\n",
    "\n",
    "for benchmark in ts.benchList:\n",
    "    try:\n",
    "        fig_local = plt.figure(figsize=(10,10))\n",
    "        ax = fig_local.add_subplot(1,1,1)\n",
    "        statsHandler = VisibilityStatsHandler()\n",
    "        vis = VisPRM(benchmark.collisionChecker, statsHandler)        \n",
    "        solution = vis.planPath(benchmark.startList, benchmark.goalList, visConfig)\n",
    "        title = benchmark.name\n",
    "        if solution == []:\n",
    "            title += \" (No path found!)\"\n",
    "        title += \"\\n Assumed complexity level \" + str(benchmark.level)\n",
    "        ax.set_title(title)\n",
    "        visibilityPRMVisualize(vis, solution, ax=ax, nodeSize=50)\n",
    "    except Exception as e:\n",
    "        print(\"ERROR: \",benchmark.name, e)"
   ]
  },
  {
   "cell_type": "markdown",
   "metadata": {},
   "source": [
    "# Comparison with the Basic PRM"
   ]
  },
  {
   "cell_type": "code",
   "execution_count": null,
   "metadata": {},
   "outputs": [],
   "source": [
    "import IPTestSuite as ts"
   ]
  },
  {
   "cell_type": "code",
   "execution_count": null,
   "metadata": {},
   "outputs": [],
   "source": [
    "from IPBasicPRM import BasicPRM\n",
    "from IPVISBasicPRM import basicPRMVisualize\n",
    "from IPVisibilityPRM import VisPRM,VisibilityStatsHandler\n",
    "from IPVISVisibilityPRM import visibilityPRMVisualize"
   ]
  },
  {
   "cell_type": "code",
   "execution_count": null,
   "metadata": {},
   "outputs": [],
   "source": [
    "benchList = ts.benchList\n",
    "\n",
    "\n",
    "basicConfig = dict()\n",
    "basicConfig[\"radius\"] = 3\n",
    "basicConfig[\"numNodes\"] = 300\n",
    "\n",
    "visConfig = dict()\n",
    "visConfig[\"ntry\"] = 25\n",
    "\n",
    "fig_local = plt.figure(figsize=(10,10))\n",
    "\n",
    "place = 1\n",
    "for bench in benchList:\n",
    "    try:\n",
    "        fig_local = plt.figure(figsize=(10,10))\n",
    "        ax = fig_local.add_subplot(1,2,1)\n",
    "        place += 1\n",
    "        basicPRM = BasicPRM(bench.collisionChecker)\n",
    "        solution = basicPRM.planPath(bench.startList, bench.goalList, basicConfig)\n",
    "        title = bench.name\n",
    "        if solution == []:\n",
    "            title += \" (No path found!)\"\n",
    "        title += \"\\n Assumed complexity level \" + str(bench.level)\n",
    "        ax.set_title(title)\n",
    "        basicPRMVisualize(basicPRM,solution,ax=ax, nodeSize=50)\n",
    "        \n",
    "        \n",
    "        ax = fig_local.add_subplot(1,2,2)\n",
    "        statsHandler = VisibilityStatsHandler()\n",
    "        vis = VisPRM(bench.collisionChecker, statsHandler)\n",
    "        solution = vis.planPath(bench.startList, bench.goalList, visConfig)\n",
    "        title = bench.name\n",
    "        if solution == []:\n",
    "            title += \" (No path found!)\"\n",
    "        title += \"\\n Assumed complexity level \" + str(bench.level)\n",
    "        ax.set_title(title)\n",
    "        visibilityPRMVisualize(vis, solution, ax=ax, nodeSize=50)\n",
    "        \n",
    "        \n",
    "    except Exception as e:\n",
    "        print (e)\n",
    "        pass"
   ]
  },
  {
   "cell_type": "code",
   "execution_count": null,
   "metadata": {},
   "outputs": [],
   "source": []
  }
 ],
 "metadata": {
  "kernelspec": {
   "display_name": "Python 3 (ipykernel)",
   "language": "python",
   "name": "python3"
  },
  "language_info": {
   "codemirror_mode": {
    "name": "ipython",
    "version": 3
   },
   "file_extension": ".py",
   "mimetype": "text/x-python",
   "name": "python",
   "nbconvert_exporter": "python",
   "pygments_lexer": "ipython3",
   "version": "3.13.2"
  }
 },
 "nbformat": 4,
 "nbformat_minor": 4
}
