{
 "cells": [
  {
   "cell_type": "markdown",
   "metadata": {
    "tags": []
   },
   "source": [
    "Introduction\n",
    "============\n",
    "\n",
    "This is interactive notebook regarding \"Introduction to path planning\". (Author: Björn Hein)\n",
    "\n",
    "Version | Author\n",
    "------------ | -------------\n",
    "0.2 | Björn Hein\n",
    "\n",
    "\n",
    "License is based on Creative Commons: Attribution-NonCommercial 4.0 International (CC BY-NC 4.0) (pls. check: http://creativecommons.org/licenses/by-nc/4.0/)\n",
    "\n",
    "This notebook imports all discussed algorithms and does a comparison\n",
    "\n",
    "Important links are:\n",
    "\n",
    "* General Info: http://www.python.org\n",
    "* Python tutorial http://www.python.org/doc/tut/\n",
    "* NetworkX http://networkx.github.io/\n",
    "* NumPy and SciPy Guide http://docs.scipy.org/\n",
    "* Matplotlib gallery http://matplotlib.sourceforge.net/gallery.html\n",
    "\n",
    "\n",
    "Remember that:\n",
    "\n",
    "* you have to press ctrl-return or shift-return, to execute the code in the code sections, only then the variables are \"generated\" and can be used\n",
    "* you can execute the whole notebook by Cell->runAll"
   ]
  },
  {
   "cell_type": "markdown",
   "metadata": {},
   "source": [
    "Adding all planners\n",
    "===========\n"
   ]
  },
  {
   "cell_type": "code",
   "execution_count": null,
   "metadata": {},
   "outputs": [],
   "source": [
    "import matplotlib.pylab as plt\n",
    "%matplotlib inline\n",
    "from IPPerfMonitor import IPPerfMonitor\n",
    "import IPBasicPRM\n",
    "import IPVISBasicPRM\n",
    "\n",
    "import IPVisibilityPRM\n",
    "import IPVISVisibilityPRM\n",
    "\n",
    "import IPLazyPRM\n",
    "import IPVISLazyPRM\n",
    "\n",
    "import IPRRT\n",
    "import IPVISRRT\n",
    "\n",
    "import IPAStar\n",
    "import IPVISAStar"
   ]
  },
  {
   "cell_type": "markdown",
   "metadata": {},
   "source": [
    "Set-up of the test scenario and the configuration for all planner\n",
    "===================================\n",
    "\n",
    "Following a procedure to compare all discussed planners are shown:\n",
    "\n",
    "1. Configuration for every planner is defined\n",
    "2. The configuration and the planner is stored in the variable setup, a Python dict()\n",
    "3. the variable setup is then used to uniformly call the planning calls\n"
   ]
  },
  {
   "cell_type": "code",
   "execution_count": null,
   "metadata": {
    "collapsed": false,
    "jupyter": {
     "outputs_hidden": false
    }
   },
   "outputs": [],
   "source": [
    "plannerFactory = dict()\n",
    "\n",
    "basicConfig = dict()\n",
    "basicConfig[\"radius\"] = 3\n",
    "basicConfig[\"numNodes\"] = 200\n",
    "plannerFactory[\"basePRM\"] = [IPBasicPRM.BasicPRM, basicConfig, IPVISBasicPRM.basicPRMVisualize]\n",
    "\n",
    "\n",
    "basicConfig2 = dict()\n",
    "basicConfig2[\"radius\"] = 6\n",
    "basicConfig2[\"numNodes\"] = 600\n",
    "plannerFactory[\"basePRM2\"] = [IPBasicPRM.BasicPRM, basicConfig2, IPVISBasicPRM.basicPRMVisualize]\n",
    "\n",
    "basicConfig3 = dict()\n",
    "basicConfig3[\"radius\"] = 15\n",
    "basicConfig3[\"numNodes\"] = 300\n",
    "plannerFactory[\"basePRM3\"] = [IPBasicPRM.BasicPRM, basicConfig3, IPVISBasicPRM.basicPRMVisualize]\n",
    "\n",
    "visbilityConfig = dict()\n",
    "visbilityConfig[\"ntry\"] = 300\n",
    "plannerFactory[\"visibilityPRM\"] = [IPVisibilityPRM.VisPRM, visbilityConfig, IPVISVisibilityPRM.visibilityPRMVisualize ]\n",
    "\n",
    "lazyConfig = dict()\n",
    "lazyConfig[\"initialRoadmapSize\"] = 10\n",
    "lazyConfig[\"updateRoadmapSize\"]  = 5 \n",
    "lazyConfig[\"kNearest\"] = 8\n",
    "lazyConfig[\"maxIterations\"] = 20\n",
    "plannerFactory[\"lazyPRM\"] = [IPLazyPRM.LazyPRM, lazyConfig, IPVISLazyPRM.lazyPRMVisualize]\n",
    "\n",
    "astarConfig = dict()\n",
    "astarConfig[\"heuristic\"] = 'euclidean' \n",
    "astarConfig[\"w\"]  = 0.5\n",
    "plannerFactory[\"astar\"] = [IPAStar.AStar, astarConfig, IPVISAStar.aStarVisualize]\n",
    "\n",
    "astarConfig2 = dict()\n",
    "astarConfig2[\"heuristic\"] = 'euclidean' \n",
    "astarConfig2[\"w\"]  = 0.9\n",
    "plannerFactory[\"astar2\"] = [IPAStar.AStar, astarConfig2, IPVISAStar.aStarVisualize]\n",
    "\n",
    "\n",
    "rrtSimpleConfig = dict()\n",
    "rrtSimpleConfig[\"numberOfGeneratedNodes\"] = 100 \n",
    "rrtSimpleConfig[\"testGoalAfterNumberOfNodes\"]  = 10\n",
    "plannerFactory[\"simpleRRT\"] = [IPRRT.RRTSimple, rrtSimpleConfig, IPVISRRT.rrtPRMVisualize]\n",
    "\n",
    "\n"
   ]
  },
  {
   "cell_type": "code",
   "execution_count": null,
   "metadata": {
    "collapsed": false,
    "jupyter": {
     "outputs_hidden": false
    }
   },
   "outputs": [],
   "source": [
    "class ResultCollection (object):\n",
    "    \n",
    "    def __init__(self, plannerFactoryName, planner, benchmark, solution, perfDataFrame):\n",
    "        self.plannerFactoryName = plannerFactoryName\n",
    "        self.planner = planner\n",
    "        self.benchmark = benchmark\n",
    "        self.solution = solution\n",
    "        self.perfDataFrame = perfDataFrame"
   ]
  },
  {
   "cell_type": "code",
   "execution_count": null,
   "metadata": {
    "collapsed": false,
    "jupyter": {
     "outputs_hidden": false
    }
   },
   "outputs": [],
   "source": [
    "import IPTestSuite as ts\n",
    "from shapely.geometry import Point, Polygon, LineString\n",
    "from shapely import plotting\n"
   ]
  },
  {
   "cell_type": "code",
   "execution_count": null,
   "metadata": {},
   "outputs": [],
   "source": [
    "#import importlib\n",
    "#importlib.reload(IPTestSuiteSS2024)"
   ]
  },
  {
   "cell_type": "code",
   "execution_count": null,
   "metadata": {
    "collapsed": false,
    "jupyter": {
     "outputs_hidden": false
    }
   },
   "outputs": [],
   "source": [
    "fullBenchList = ts.benchList\n",
    "\n",
    "for benchmark in fullBenchList:\n",
    "    print(benchmark.name)"
   ]
  },
  {
   "cell_type": "code",
   "execution_count": null,
   "metadata": {},
   "outputs": [],
   "source": [
    "for benchmark in fullBenchList:\n",
    "    fig_local = plt.figure(figsize=(7,7))\n",
    "    ax = fig_local.add_subplot(1,1,1)\n",
    "    title = benchmark.name\n",
    "    ax.set_title(title)\n",
    "    ax.set_xlim(benchmark.collisionChecker.getEnvironmentLimits()[0])\n",
    "    ax.set_ylim(benchmark.collisionChecker.getEnvironmentLimits()[1])\n",
    "    plotting.plot_points(Point(benchmark.startList[0]).buffer(.3), color=\"g\", ax=ax)\n",
    "    plotting.plot_points(Point(benchmark.goalList[0]).buffer(.3), color=\"b\", ax=ax)\n",
    "    #try:\n",
    "    benchmark.collisionChecker.drawObstacles(ax)\n",
    "    \n",
    "        \n",
    "    #except Exception as e:\n",
    "    #    print (\"Error\", e)\n",
    "    #    pass\n",
    "\n",
    "    "
   ]
  },
  {
   "cell_type": "code",
   "execution_count": null,
   "metadata": {
    "collapsed": false,
    "jupyter": {
     "outputs_hidden": false
    }
   },
   "outputs": [],
   "source": [
    "resultList = list()\n",
    "testList = fullBenchList\n",
    "\n",
    "for key,producer in list(plannerFactory.items()):\n",
    "    print(key, producer)\n",
    "    for benchmark in testList:\n",
    "        print (\"Planning: \" + key + \" - \" + benchmark.name)\n",
    "        #planner = IPBasicPRM.BasicPRM(benchmark.collisionChecker)\n",
    "        planner = producer[0](benchmark.collisionChecker)\n",
    "        IPPerfMonitor.clearData()\n",
    "        try:\n",
    "            \n",
    "            resultList.append(ResultCollection(key,\n",
    "                                          planner, \n",
    "                                           benchmark, \n",
    "                                           planner.planPath(benchmark.startList,benchmark.goalList,producer[1]),\n",
    "                                           IPPerfMonitor.dataFrame()\n",
    "                                          ),\n",
    "                        )\n",
    "        except Exception as e:\n",
    "        #    throw e\n",
    "            print (\"PLANNING ERROR ! PLANNING ERROR ! PLANNING ERROR \", e)\n",
    "            pass\n",
    "            \n",
    "\n"
   ]
  },
  {
   "cell_type": "code",
   "execution_count": null,
   "metadata": {
    "scrolled": true,
    "tags": []
   },
   "outputs": [],
   "source": [
    "import matplotlib.pyplot as plt\n",
    "\n",
    "for result in resultList:\n",
    "    \n",
    "    fig_local = plt.figure(figsize=(10,10))\n",
    "    ax = fig_local.add_subplot(1,1,1)\n",
    "    title = result.plannerFactoryName + \" - \" + result.benchmark.name\n",
    "    if result.solution == []:\n",
    "        title += \" (No path found!)\"\n",
    "    title += \"\\n Assumed complexity level \" + str(result.benchmark.level)\n",
    "    ax.set_title(title)\n",
    "    try:\n",
    "        #IPVISBasicsPRM.basicPRMVisualize(result.planner, result.solution, ax=ax, nodeSize=100))\n",
    "        plannerFactory[result.plannerFactoryName][2](result.planner, result.solution, ax=ax, nodeSize=100)\n",
    "    except Exception as e:\n",
    "        print (\"Error\", e)\n",
    "        pass\n",
    "    "
   ]
  },
  {
   "cell_type": "code",
   "execution_count": null,
   "metadata": {
    "collapsed": false,
    "jupyter": {
     "outputs_hidden": false
    }
   },
   "outputs": [],
   "source": [
    "import numpy as np\n",
    "for bench in testList:\n",
    "    title = bench.name\n",
    "    pathLength = dict()\n",
    "    planningTime = dict()\n",
    "    roadmapSize  = dict()\n",
    "    \n",
    "    try:\n",
    "        for result in resultList:\n",
    "            if result.benchmark.name == bench.name:\n",
    "                #print result.benchmark.name  + \" - \" +  result.plannerFactoryName, len(result.solution)\n",
    "                pathLength[result.plannerFactoryName] = len(result.solution)\n",
    "                planningTime[result.plannerFactoryName] = result.perfDataFrame.groupby([\"name\"]).sum(numeric_only=True)[\"time\"][\"planPath\"]\n",
    "                roadmapSize[result.plannerFactoryName] = result.planner.graph.size()\n",
    "\n",
    "\n",
    "        fig, ax = plt.subplots()\n",
    "\n",
    "        width = 0.2\n",
    "\n",
    "        ax.bar(np.arange(len(pathLength.keys())), pathLength.values(),width, color=\"blue\")\n",
    "        ax.set_ylabel(title + \" Number of nodes in path\", color=\"blue\")\n",
    "        ax.set_xticks(np.arange(len(pathLength.keys())) + width)\n",
    "        ax.set_xticklabels(pathLength.keys())\n",
    "\n",
    "        ax2 = ax.twinx()\n",
    "        bar = ax2.bar(np.arange(len(pathLength.keys()))+width, planningTime.values(),width, color=\"red\")\n",
    "        ax2.set_ylabel(title + \" Planning time\", color=\"y\")\n",
    "\n",
    "        # Add coloring and patterns on axis two\n",
    "        hatches = ['x' if length==0 else '' for length in pathLength.values()]\n",
    "        color   = ['red' if length==0 else 'yellow' for length in pathLength.values()]\n",
    "        for i,thisbar in enumerate(bar.patches):\n",
    "            thisbar.set_facecolor(color[i])\n",
    "            thisbar.set_hatch(hatches[i])\n",
    "\n",
    "        # Multiple axes \n",
    "        ax3 = ax.twinx()\n",
    "        ax3.bar(np.arange(len(pathLength.keys()))+2*width, roadmapSize.values(),width, color=\"purple\")\n",
    "        ax3.set_ylabel(title + \" Roadmap size\",  color=\"purple\")\n",
    "        ax3.spines['right'].set_position(('axes', 1.15))\n",
    "        ax3.spines['right'].set_color(\"purple\")\n",
    "    except:\n",
    "        pass\n",
    "\n",
    "\n",
    "    \n",
    "        \n",
    "    "
   ]
  }
 ],
 "metadata": {
  "kernelspec": {
   "display_name": "Python 3 (ipykernel)",
   "language": "python",
   "name": "python3"
  },
  "language_info": {
   "codemirror_mode": {
    "name": "ipython",
    "version": 3
   },
   "file_extension": ".py",
   "mimetype": "text/x-python",
   "name": "python",
   "nbconvert_exporter": "python",
   "pygments_lexer": "ipython3",
   "version": "3.13.2"
  }
 },
 "nbformat": 4,
 "nbformat_minor": 4
}
