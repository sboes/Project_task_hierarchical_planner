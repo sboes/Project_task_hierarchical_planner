{
 "cells": [
  {
   "cell_type": "markdown",
   "metadata": {
    "tags": []
   },
   "source": [
    "Introduction\n",
    "============\n",
    "**Topic**: Introduction to NetworkX\n",
    "\n",
    "This notebook is a part of a collection of notebooks and includes basic information and examples to implement graphs using NetworkX and apply them in path planning algorithms.\n",
    "\n",
    "Version | Author\n",
    "------------ | -------------\n",
    "0.2 | Björn Hein\n",
    "\n",
    "License is based on Creative Commons: Attribution-NonCommercial 4.0 International (CC BY-NC 4.0) (pls. check: http://creativecommons.org/licenses/by-nc/4.0/)\n",
    "\n",
    "Content:\n",
    "\n",
    "* [Graph handling](#Graph-handling)\n",
    "* [Drawing graphs](#Drawing-graphs)\n",
    "* [Lecture examples](#Lecture-examples)"
   ]
  },
  {
   "cell_type": "code",
   "metadata": {
    "collapsed": false,
    "jupyter": {
     "outputs_hidden": false
    },
    "ExecuteTime": {
     "end_time": "2025-05-16T10:22:28.680178Z",
     "start_time": "2025-05-16T10:22:28.584940Z"
    }
   },
   "source": [
    "import networkx as nx "
   ],
   "outputs": [],
   "execution_count": 1
  },
  {
   "cell_type": "code",
   "metadata": {
    "ExecuteTime": {
     "end_time": "2025-05-16T10:22:28.759694Z",
     "start_time": "2025-05-16T10:22:28.757666Z"
    }
   },
   "source": [
    "print(nx.__version__)"
   ],
   "outputs": [
    {
     "name": "stdout",
     "output_type": "stream",
     "text": [
      "3.4.2\n"
     ]
    }
   ],
   "execution_count": 2
  },
  {
   "cell_type": "markdown",
   "metadata": {},
   "source": [
    "# Graph handling\n",
    "## Creating a graph"
   ]
  },
  {
   "cell_type": "code",
   "metadata": {
    "ExecuteTime": {
     "end_time": "2025-05-16T10:22:28.842115Z",
     "start_time": "2025-05-16T10:22:28.840588Z"
    }
   },
   "source": [
    "G = nx.Graph()"
   ],
   "outputs": [],
   "execution_count": 3
  },
  {
   "cell_type": "markdown",
   "metadata": {},
   "source": [
    "## Adding Nodes"
   ]
  },
  {
   "cell_type": "code",
   "metadata": {
    "collapsed": false,
    "jupyter": {
     "outputs_hidden": false
    },
    "ExecuteTime": {
     "end_time": "2025-05-16T10:22:28.853657Z",
     "start_time": "2025-05-16T10:22:28.852094Z"
    }
   },
   "source": [
    "G.add_node(1) # G.add_node(id) --> id can be any hashable object"
   ],
   "outputs": [],
   "execution_count": 4
  },
  {
   "cell_type": "code",
   "metadata": {
    "ExecuteTime": {
     "end_time": "2025-05-16T10:22:29.003983Z",
     "start_time": "2025-05-16T10:22:29.002229Z"
    }
   },
   "source": [
    "G.add_nodes_from([2,3,\"A\"])"
   ],
   "outputs": [],
   "execution_count": 5
  },
  {
   "cell_type": "code",
   "metadata": {
    "ExecuteTime": {
     "end_time": "2025-05-16T10:22:29.032861Z",
     "start_time": "2025-05-16T10:22:29.031348Z"
    }
   },
   "source": [
    "print(G)"
   ],
   "outputs": [
    {
     "name": "stdout",
     "output_type": "stream",
     "text": [
      "Graph with 4 nodes and 0 edges\n"
     ]
    }
   ],
   "execution_count": 6
  },
  {
   "cell_type": "markdown",
   "metadata": {},
   "source": [
    "## Adding Edges"
   ]
  },
  {
   "cell_type": "code",
   "metadata": {
    "ExecuteTime": {
     "end_time": "2025-05-16T10:22:29.059042Z",
     "start_time": "2025-05-16T10:22:29.057311Z"
    }
   },
   "source": [
    "G.add_edge(1,2)\n",
    "e=(2,3)\n",
    "G.add_edge(*e)\n",
    "G.add_node(\"Bob\")\n",
    "G.add_node(\"Marie\")\n",
    "G.add_edge(\"Bob\",\"Marie\")\n",
    "G.add_edge(\"Bob\",\"A\")"
   ],
   "outputs": [],
   "execution_count": 7
  },
  {
   "cell_type": "code",
   "metadata": {
    "collapsed": false,
    "jupyter": {
     "outputs_hidden": false
    },
    "ExecuteTime": {
     "end_time": "2025-05-16T10:22:29.073776Z",
     "start_time": "2025-05-16T10:22:29.070931Z"
    }
   },
   "source": [
    "G.number_of_nodes()"
   ],
   "outputs": [
    {
     "data": {
      "text/plain": [
       "6"
      ]
     },
     "execution_count": 8,
     "metadata": {},
     "output_type": "execute_result"
    }
   ],
   "execution_count": 8
  },
  {
   "cell_type": "code",
   "metadata": {
    "ExecuteTime": {
     "end_time": "2025-05-16T10:22:29.110652Z",
     "start_time": "2025-05-16T10:22:29.108360Z"
    }
   },
   "source": [
    "G.nodes()"
   ],
   "outputs": [
    {
     "data": {
      "text/plain": [
       "NodeView((1, 2, 3, 'A', 'Bob', 'Marie'))"
      ]
     },
     "execution_count": 9,
     "metadata": {},
     "output_type": "execute_result"
    }
   ],
   "execution_count": 9
  },
  {
   "cell_type": "code",
   "metadata": {
    "ExecuteTime": {
     "end_time": "2025-05-16T10:22:29.135987Z",
     "start_time": "2025-05-16T10:22:29.133691Z"
    }
   },
   "source": [
    "# show all elements of the nodes - currently empty\n",
    "G.nodes(data=True)"
   ],
   "outputs": [
    {
     "data": {
      "text/plain": [
       "NodeDataView({1: {}, 2: {}, 3: {}, 'A': {}, 'Bob': {}, 'Marie': {}})"
      ]
     },
     "execution_count": 10,
     "metadata": {},
     "output_type": "execute_result"
    }
   ],
   "execution_count": 10
  },
  {
   "cell_type": "code",
   "metadata": {
    "collapsed": false,
    "jupyter": {
     "outputs_hidden": false
    },
    "ExecuteTime": {
     "end_time": "2025-05-16T10:22:29.154913Z",
     "start_time": "2025-05-16T10:22:29.152641Z"
    }
   },
   "source": [
    "G.edges(data=True)"
   ],
   "outputs": [
    {
     "data": {
      "text/plain": [
       "EdgeDataView([(1, 2, {}), (2, 3, {}), ('A', 'Bob', {}), ('Bob', 'Marie', {})])"
      ]
     },
     "execution_count": 11,
     "metadata": {},
     "output_type": "execute_result"
    }
   ],
   "execution_count": 11
  },
  {
   "cell_type": "markdown",
   "metadata": {},
   "source": [
    "## Node attributes"
   ]
  },
  {
   "cell_type": "code",
   "metadata": {
    "collapsed": false,
    "jupyter": {
     "outputs_hidden": false
    },
    "ExecuteTime": {
     "end_time": "2025-05-16T10:22:29.178021Z",
     "start_time": "2025-05-16T10:22:29.176365Z"
    }
   },
   "source": [
    "G.nodes[1]['color']=\"red\"\n",
    "G.nodes[1]['time']=4.3\n",
    "G.nodes[\"A\"]['Amazing']=\"Parameter\""
   ],
   "outputs": [],
   "execution_count": 12
  },
  {
   "cell_type": "code",
   "metadata": {
    "collapsed": false,
    "jupyter": {
     "outputs_hidden": false
    },
    "ExecuteTime": {
     "end_time": "2025-05-16T10:22:29.191064Z",
     "start_time": "2025-05-16T10:22:29.189051Z"
    }
   },
   "source": [
    "G.nodes[1]"
   ],
   "outputs": [
    {
     "data": {
      "text/plain": [
       "{'color': 'red', 'time': 4.3}"
      ]
     },
     "execution_count": 13,
     "metadata": {},
     "output_type": "execute_result"
    }
   ],
   "execution_count": 13
  },
  {
   "cell_type": "code",
   "metadata": {
    "ExecuteTime": {
     "end_time": "2025-05-16T10:22:29.215982Z",
     "start_time": "2025-05-16T10:22:29.213831Z"
    }
   },
   "source": [
    "G.nodes['A']"
   ],
   "outputs": [
    {
     "data": {
      "text/plain": [
       "{'Amazing': 'Parameter'}"
      ]
     },
     "execution_count": 14,
     "metadata": {},
     "output_type": "execute_result"
    }
   ],
   "execution_count": 14
  },
  {
   "cell_type": "code",
   "metadata": {
    "ExecuteTime": {
     "end_time": "2025-05-16T10:22:29.238397Z",
     "start_time": "2025-05-16T10:22:29.236476Z"
    }
   },
   "source": [
    "G.nodes(data=True)"
   ],
   "outputs": [
    {
     "data": {
      "text/plain": [
       "NodeDataView({1: {'color': 'red', 'time': 4.3}, 2: {}, 3: {}, 'A': {'Amazing': 'Parameter'}, 'Bob': {}, 'Marie': {}})"
      ]
     },
     "execution_count": 15,
     "metadata": {},
     "output_type": "execute_result"
    }
   ],
   "execution_count": 15
  },
  {
   "cell_type": "markdown",
   "metadata": {},
   "source": [
    "## Edge attributes"
   ]
  },
  {
   "cell_type": "code",
   "metadata": {
    "collapsed": false,
    "jupyter": {
     "outputs_hidden": false
    },
    "ExecuteTime": {
     "end_time": "2025-05-16T10:22:29.262457Z",
     "start_time": "2025-05-16T10:22:29.260880Z"
    }
   },
   "source": [
    "G[\"Bob\"][\"Marie\"][\"weight\"]=100.3"
   ],
   "outputs": [],
   "execution_count": 16
  },
  {
   "cell_type": "code",
   "metadata": {
    "ExecuteTime": {
     "end_time": "2025-05-16T10:22:29.280698Z",
     "start_time": "2025-05-16T10:22:29.278598Z"
    }
   },
   "source": [
    "G[\"Bob\"][\"Marie\"]"
   ],
   "outputs": [
    {
     "data": {
      "text/plain": [
       "{'weight': 100.3}"
      ]
     },
     "execution_count": 17,
     "metadata": {},
     "output_type": "execute_result"
    }
   ],
   "execution_count": 17
  },
  {
   "cell_type": "markdown",
   "metadata": {},
   "source": [
    "## Analyzing"
   ]
  },
  {
   "cell_type": "code",
   "metadata": {
    "collapsed": false,
    "jupyter": {
     "outputs_hidden": false
    },
    "ExecuteTime": {
     "end_time": "2025-05-16T10:22:29.299661Z",
     "start_time": "2025-05-16T10:22:29.297899Z"
    }
   },
   "source": [
    "con_comp = nx.connected_components(G)"
   ],
   "outputs": [],
   "execution_count": 18
  },
  {
   "cell_type": "code",
   "metadata": {
    "collapsed": false,
    "jupyter": {
     "outputs_hidden": false
    },
    "ExecuteTime": {
     "end_time": "2025-05-16T10:22:29.315203Z",
     "start_time": "2025-05-16T10:22:29.313240Z"
    }
   },
   "source": [
    "for a in list(con_comp):\n",
    "    print(a)"
   ],
   "outputs": [
    {
     "name": "stdout",
     "output_type": "stream",
     "text": [
      "{1, 2, 3}\n",
      "{'Marie', 'Bob', 'A'}\n"
     ]
    }
   ],
   "execution_count": 19
  },
  {
   "cell_type": "code",
   "metadata": {
    "ExecuteTime": {
     "end_time": "2025-05-16T10:22:29.334992Z",
     "start_time": "2025-05-16T10:22:29.333398Z"
    }
   },
   "source": [
    "G.add_edge(\"A\",1)\n",
    "G.add_edge(1,'1')"
   ],
   "outputs": [],
   "execution_count": 20
  },
  {
   "cell_type": "code",
   "metadata": {
    "collapsed": false,
    "jupyter": {
     "outputs_hidden": false
    },
    "ExecuteTime": {
     "end_time": "2025-05-16T10:22:29.353719Z",
     "start_time": "2025-05-16T10:22:29.351695Z"
    }
   },
   "source": [
    "con_comp = nx.connected_components(G)"
   ],
   "outputs": [],
   "execution_count": 21
  },
  {
   "cell_type": "code",
   "metadata": {
    "collapsed": false,
    "jupyter": {
     "outputs_hidden": false
    },
    "ExecuteTime": {
     "end_time": "2025-05-16T10:22:29.366175Z",
     "start_time": "2025-05-16T10:22:29.364389Z"
    }
   },
   "source": [
    "for a in list(con_comp):\n",
    "    print(a)"
   ],
   "outputs": [
    {
     "name": "stdout",
     "output_type": "stream",
     "text": [
      "{1, 2, 3, 'A', '1', 'Marie', 'Bob'}\n"
     ]
    }
   ],
   "execution_count": 22
  },
  {
   "cell_type": "markdown",
   "metadata": {},
   "source": [
    "# Drawing graphs"
   ]
  },
  {
   "cell_type": "code",
   "metadata": {
    "tags": [],
    "ExecuteTime": {
     "end_time": "2025-05-16T10:22:29.616647Z",
     "start_time": "2025-05-16T10:22:29.389107Z"
    }
   },
   "source": [
    "import matplotlib.pyplot as plt"
   ],
   "outputs": [],
   "execution_count": 23
  },
  {
   "cell_type": "code",
   "metadata": {
    "collapsed": false,
    "jupyter": {
     "outputs_hidden": false
    },
    "ExecuteTime": {
     "end_time": "2025-05-16T10:22:29.699384Z",
     "start_time": "2025-05-16T10:22:29.623055Z"
    }
   },
   "source": [
    "fig, axes = plt.subplots()\n",
    "nx.draw(G, ax=axes, with_labels=True)"
   ],
   "outputs": [
    {
     "data": {
      "text/plain": [
       "<Figure size 640x480 with 1 Axes>"
      ],
      "image/png": "[encoded data removed]"
     },
     "metadata": {},
     "output_type": "display_data"
    }
   ],
   "execution_count": 24
  },
  {
   "cell_type": "markdown",
   "metadata": {},
   "source": [
    "# Lecture examples\n",
    "Following examples are according to the slides provided in the lecture."
   ]
  },
  {
   "cell_type": "markdown",
   "metadata": {},
   "source": [
    "## Initialiizing graphs\n",
    "### Undirected graph"
   ]
  },
  {
   "cell_type": "code",
   "metadata": {
    "tags": [],
    "ExecuteTime": {
     "end_time": "2025-05-16T10:22:29.709220Z",
     "start_time": "2025-05-16T10:22:29.707377Z"
    }
   },
   "source": [
    "G_undir = nx.Graph()"
   ],
   "outputs": [],
   "execution_count": 25
  },
  {
   "cell_type": "code",
   "metadata": {
    "tags": [],
    "ExecuteTime": {
     "end_time": "2025-05-16T10:22:29.745743Z",
     "start_time": "2025-05-16T10:22:29.743947Z"
    }
   },
   "source": [
    "G_undir.add_nodes_from([\"A\",\"B\",\"C\",\"D\"])"
   ],
   "outputs": [],
   "execution_count": 26
  },
  {
   "cell_type": "code",
   "metadata": {
    "collapsed": false,
    "jupyter": {
     "outputs_hidden": false
    },
    "ExecuteTime": {
     "end_time": "2025-05-16T10:22:29.766465Z",
     "start_time": "2025-05-16T10:22:29.764455Z"
    }
   },
   "source": [
    "G_undir.add_edges_from([(\"A\",\"B\"),(\"B\",\"C\"),(\"C\",\"D\"),(\"D\",\"B\")])"
   ],
   "outputs": [],
   "execution_count": 27
  },
  {
   "cell_type": "code",
   "metadata": {
    "ExecuteTime": {
     "end_time": "2025-05-16T10:22:29.792842Z",
     "start_time": "2025-05-16T10:22:29.790917Z"
    }
   },
   "source": [
    "colors = ['blue' for i in range(4)]\n",
    "print(colors)"
   ],
   "outputs": [
    {
     "name": "stdout",
     "output_type": "stream",
     "text": [
      "['blue', 'blue', 'blue', 'blue']\n"
     ]
    }
   ],
   "execution_count": 28
  },
  {
   "cell_type": "code",
   "metadata": {
    "ExecuteTime": {
     "end_time": "2025-05-16T10:24:55.577021Z",
     "start_time": "2025-05-16T10:24:55.574249Z"
    }
   },
   "source": [
    "colors_two = {'A': \"lightblue\", 'B': \"red\", \"C\": \"green\", \"D\": \"red\"}\n",
    "print(colors_two)"
   ],
   "outputs": [
    {
     "name": "stdout",
     "output_type": "stream",
     "text": [
      "{'A': 'lightblue', 'B': 'red', 'C': 'green', 'D': 'red'}\n"
     ]
    }
   ],
   "execution_count": 75
  },
  {
   "cell_type": "code",
   "metadata": {
    "ExecuteTime": {
     "end_time": "2025-05-16T10:24:55.921182Z",
     "start_time": "2025-05-16T10:24:55.919074Z"
    }
   },
   "source": [
    "colors[0]=\"Yellow\""
   ],
   "outputs": [],
   "execution_count": 76
  },
  {
   "cell_type": "code",
   "metadata": {
    "collapsed": false,
    "jupyter": {
     "outputs_hidden": false
    },
    "ExecuteTime": {
     "end_time": "2025-05-16T10:27:14.592069Z",
     "start_time": "2025-05-16T10:27:14.542706Z"
    }
   },
   "source": [
    "fig, axes = plt.subplots()\n",
    "nx.draw(G_undir,with_labels=True, node_color=colors, node_size=600.0, ax=axes)\n",
    "# Remark: ax=axes can be omitted if you just want to draw in the last generated figure (e.g. by plt.subplots() or plt.figure(), etc)\n",
    "# It gives you the possibility to draw in a specified figure, even when plotted in the notebook before."
   ],
   "outputs": [
    {
     "data": {
      "text/plain": [
       "<Figure size 640x480 with 1 Axes>"
      ],
      "image/png": "[encoded data removed]"
     },
     "metadata": {},
     "output_type": "display_data"
    }
   ],
   "execution_count": 82
  },
  {
   "cell_type": "markdown",
   "metadata": {},
   "source": [
    "### Directed graph"
   ]
  },
  {
   "cell_type": "code",
   "metadata": {
    "collapsed": false,
    "jupyter": {
     "outputs_hidden": false
    },
    "ExecuteTime": {
     "end_time": "2025-05-16T10:22:29.950122Z",
     "start_time": "2025-05-16T10:22:29.948535Z"
    }
   },
   "source": [
    "G_dir = nx.DiGraph()"
   ],
   "outputs": [],
   "execution_count": 32
  },
  {
   "cell_type": "code",
   "metadata": {
    "tags": [],
    "ExecuteTime": {
     "end_time": "2025-05-16T10:22:29.982857Z",
     "start_time": "2025-05-16T10:22:29.980629Z"
    }
   },
   "source": [
    "G_dir.add_nodes_from([\"A\",\"B\",\"C\",\"D\"])"
   ],
   "outputs": [],
   "execution_count": 33
  },
  {
   "cell_type": "code",
   "metadata": {
    "tags": [],
    "ExecuteTime": {
     "end_time": "2025-05-16T10:22:30.005781Z",
     "start_time": "2025-05-16T10:22:30.003943Z"
    }
   },
   "source": [
    "G_dir.add_edges_from([(\"A\",\"B\"),(\"B\",\"C\"),(\"C\",\"D\"),(\"D\",\"B\")])"
   ],
   "outputs": [],
   "execution_count": 34
  },
  {
   "cell_type": "code",
   "metadata": {
    "collapsed": false,
    "jupyter": {
     "outputs_hidden": false
    },
    "ExecuteTime": {
     "end_time": "2025-05-16T10:22:30.076935Z",
     "start_time": "2025-05-16T10:22:30.030101Z"
    }
   },
   "source": [
    "fig, axes = plt.subplots()\n",
    "nx.draw(G_dir,with_labels=True, node_color=colors, node_size=600.0)"
   ],
   "outputs": [
    {
     "data": {
      "text/plain": [
       "<Figure size 640x480 with 1 Axes>"
      ],
      "image/png": "[encoded data removed]"
     },
     "metadata": {},
     "output_type": "display_data"
    }
   ],
   "execution_count": 35
  },
  {
   "cell_type": "markdown",
   "metadata": {},
   "source": [
    "## Add attribute to edges "
   ]
  },
  {
   "cell_type": "markdown",
   "metadata": {},
   "source": [
    "### Undirected graph"
   ]
  },
  {
   "cell_type": "code",
   "metadata": {
    "ExecuteTime": {
     "end_time": "2025-05-16T10:22:30.089490Z",
     "start_time": "2025-05-16T10:22:30.088215Z"
    }
   },
   "source": [],
   "outputs": [],
   "execution_count": null
  },
  {
   "cell_type": "code",
   "metadata": {
    "collapsed": false,
    "jupyter": {
     "outputs_hidden": false
    },
    "ExecuteTime": {
     "end_time": "2025-05-16T10:22:30.123247Z",
     "start_time": "2025-05-16T10:22:30.121225Z"
    }
   },
   "source": [
    "#fig, axes = plt.subplots()\n",
    "\n",
    "# Set weight to edges\n",
    "G_undir[\"A\"][\"B\"][\"weight\"] = 3\n",
    "G_undir[\"B\"][\"C\"][\"weight\"] = 2\n",
    "G_undir[\"C\"][\"D\"][\"weight\"] = 4\n",
    "G_undir[\"D\"][\"B\"][\"weight\"] = 10\n",
    "\n",
    "# Generate positions based on specific layout \"spring\"\n",
    "pos = nx.spiral_layout(G_undir)\n"
   ],
   "outputs": [],
   "execution_count": 36
  },
  {
   "cell_type": "code",
   "metadata": {
    "ExecuteTime": {
     "end_time": "2025-05-16T10:22:30.146217Z",
     "start_time": "2025-05-16T10:22:30.144341Z"
    }
   },
   "source": [
    "print(pos)"
   ],
   "outputs": [
    {
     "name": "stdout",
     "output_type": "stream",
     "text": [
      "{'A': array([-0.64153279, -0.68555087]), 'B': array([-0.03307913, -0.46344795]), 'C': array([0.34927952, 0.14899882]), 'D': array([0.32533239, 1.        ])}\n"
     ]
    }
   ],
   "execution_count": 37
  },
  {
   "cell_type": "code",
   "metadata": {
    "ExecuteTime": {
     "end_time": "2025-05-16T10:22:30.232389Z",
     "start_time": "2025-05-16T10:22:30.177832Z"
    }
   },
   "source": [
    "print(pos)\n",
    "# Draw nodes and edges\n",
    "nx.draw(G_undir, pos,  with_labels=True, node_color=colors, node_size=600.0)\n",
    "\n",
    "# Get specific edge attribute and draw\n",
    "edge_attributes = nx.get_edge_attributes(G_undir,'weight')\n",
    "nx.draw_networkx_edge_labels(G_undir, pos, edge_labels=edge_attributes)"
   ],
   "outputs": [
    {
     "name": "stdout",
     "output_type": "stream",
     "text": [
      "{'A': array([-0.64153279, -0.68555087]), 'B': array([-0.03307913, -0.46344795]), 'C': array([0.34927952, 0.14899882]), 'D': array([0.32533239, 1.        ])}\n"
     ]
    },
    {
     "data": {
      "text/plain": [
       "{('A', 'B'): Text(-0.33730071961614233, -0.5744974993643721, '3'),\n",
       " ('B', 'C'): Text(0.15809884804119412, -0.15722672307986774, '2'),\n",
       " ('B', 'D'): Text(0.14612763196022793, 0.2682801106031316, '10'),\n",
       " ('C', 'D'): Text(0.3373056745343288, 0.5745095328596701, '4')}"
      ]
     },
     "execution_count": 38,
     "metadata": {},
     "output_type": "execute_result"
    },
    {
     "data": {
      "text/plain": [
       "<Figure size 640x480 with 1 Axes>"
      ],
      "image/png": "[encoded data removed]"
     },
     "metadata": {},
     "output_type": "display_data"
    }
   ],
   "execution_count": 38
  },
  {
   "cell_type": "markdown",
   "metadata": {},
   "source": [
    "### Directed Graph"
   ]
  },
  {
   "cell_type": "code",
   "metadata": {
    "collapsed": false,
    "jupyter": {
     "outputs_hidden": false
    },
    "ExecuteTime": {
     "end_time": "2025-05-16T10:22:30.330599Z",
     "start_time": "2025-05-16T10:22:30.242035Z"
    }
   },
   "source": [
    "fig, axes = plt.subplots()\n",
    "\n",
    "# Set weight to edges\n",
    "G_dir[\"A\"][\"B\"][\"weight\"] = 2\n",
    "G_dir[\"B\"][\"C\"][\"weight\"] = 3\n",
    "G_dir[\"C\"][\"D\"][\"weight\"] = 8\n",
    "G_dir[\"D\"][\"B\"][\"weight\"] = 7\n",
    "\n",
    "G_dir.add_edge(\"B\",\"D\", weight=4)\n",
    "# or \n",
    "# G_dir.add_edge(\"B\",\"D\", weight=4)\n",
    "# G_dir[\"B\"][\"D\"][\"weight\"] = 4\n",
    "\n",
    "# Draw nodes and edges\n",
    "nx.draw(G_dir, pos, with_labels=True, node_color=colors, node_size=600.0)\n",
    "\n",
    "# Get specific edge attribute and draw\n",
    "edge_attributes = nx.get_edge_attributes(G_dir,'weight')\n",
    "nx.draw_networkx_edge_labels(G_dir, pos, edge_labels=edge_attributes)\n"
   ],
   "outputs": [
    {
     "data": {
      "text/plain": [
       "{('A', 'B'): Text(-0.33730444158878203, -0.5744988579904428, '2'),\n",
       " ('B', 'C'): Text(0.15809963128149018, -0.1572254685169443, '3'),\n",
       " ('B', 'D'): Text(0.14612330264773488, 0.26826243337169364, '4'),\n",
       " ('C', 'D'): Text(0.33730557995777755, 0.5745128937950281, '8'),\n",
       " ('D', 'B'): Text(0.14612995980657373, 0.26828961554847197, '7')}"
      ]
     },
     "execution_count": 39,
     "metadata": {},
     "output_type": "execute_result"
    },
    {
     "data": {
      "text/plain": [
       "<Figure size 640x480 with 1 Axes>"
      ],
      "image/png": "[encoded data removed]"
     },
     "metadata": {},
     "output_type": "display_data"
    }
   ],
   "execution_count": 39
  },
  {
   "cell_type": "code",
   "metadata": {
    "collapsed": false,
    "jupyter": {
     "outputs_hidden": false
    },
    "ExecuteTime": {
     "end_time": "2025-05-16T10:22:30.397095Z",
     "start_time": "2025-05-16T10:22:30.340444Z"
    }
   },
   "source": [
    "fig, axes = plt.subplots()\n",
    "\n",
    "# shift labels so they don't overlap, e.g. edge (\"B\",\"D\") and (\"D\",\"B\")\n",
    "nx.draw(G_dir, pos, with_labels=True, node_color=colors, node_size=600.0)\n",
    "nx.draw_networkx_edge_labels(G_dir, pos, edge_labels=edge_attributes,  label_pos=0.3)\n",
    " "
   ],
   "outputs": [
    {
     "data": {
      "text/plain": [
       "{('A', 'B'): Text(-0.4507253555574123, -0.615900723498703, '2'),\n",
       " ('B', 'C'): Text(0.08848229701656862, -0.26873572510122257, '3'),\n",
       " ('B', 'D'): Text(0.07852652269979465, -0.007745345136297432, '4'),\n",
       " ('C', 'D'): Text(0.34155815970619186, 0.4233903855179464, '8'),\n",
       " ('D', 'B'): Text(0.21372673975451373, 0.5442973940564628, '7')}"
      ]
     },
     "execution_count": 40,
     "metadata": {},
     "output_type": "execute_result"
    },
    {
     "data": {
      "text/plain": [
       "<Figure size 640x480 with 1 Axes>"
      ],
      "image/png": "[encoded data removed]"
     },
     "metadata": {},
     "output_type": "display_data"
    }
   ],
   "execution_count": 40
  },
  {
   "cell_type": "markdown",
   "metadata": {},
   "source": [
    "## Finding paths\n",
    "http://networkx.github.io/documentation/latest/reference/algorithms.shortest_paths.html\n"
   ]
  },
  {
   "cell_type": "markdown",
   "metadata": {},
   "source": [
    "### Undirected Graph\n"
   ]
  },
  {
   "cell_type": "code",
   "metadata": {
    "collapsed": false,
    "jupyter": {
     "outputs_hidden": false
    },
    "ExecuteTime": {
     "end_time": "2025-05-16T10:22:30.408142Z",
     "start_time": "2025-05-16T10:22:30.406235Z"
    }
   },
   "source": [
    "shortest_path = nx.shortest_path(G_undir,source=\"A\",target=\"D\", weight=\"weight\")"
   ],
   "outputs": [],
   "execution_count": 41
  },
  {
   "cell_type": "code",
   "metadata": {
    "collapsed": false,
    "jupyter": {
     "outputs_hidden": false
    },
    "ExecuteTime": {
     "end_time": "2025-05-16T10:22:30.439828Z",
     "start_time": "2025-05-16T10:22:30.438149Z"
    }
   },
   "source": [
    "print(shortest_path)"
   ],
   "outputs": [
    {
     "name": "stdout",
     "output_type": "stream",
     "text": [
      "['A', 'B', 'C', 'D']\n"
     ]
    }
   ],
   "execution_count": 42
  },
  {
   "cell_type": "code",
   "metadata": {
    "collapsed": false,
    "jupyter": {
     "outputs_hidden": false
    },
    "ExecuteTime": {
     "end_time": "2025-05-16T10:22:30.530151Z",
     "start_time": "2025-05-16T10:22:30.478524Z"
    }
   },
   "source": [
    "fig, axes = plt.subplots()\n",
    "\n",
    "# Draw nodes and edges\n",
    "nx.draw(G_undir, pos, with_labels=True, node_color=colors, node_size=600.0)\n",
    "\n",
    "# Generate and draw the solution path\n",
    "edgeList = [(shortest_path[i],shortest_path[i+1]) for i in range(len(shortest_path)-1)]\n",
    "print(pos)\n",
    "print(shortest_path)\n",
    "print(edgeList)\n",
    "nx.draw_networkx_edges(G_undir, pos, edgelist=edgeList, edge_color=\"red\", width=4.0)\n",
    "\n",
    "# Get specific edge attribute and draw\n",
    "edge_attributes = nx.get_edge_attributes(G_undir,'weight')\n",
    "print(edge_attributes)\n",
    "nx.draw_networkx_edge_labels(G_undir, pos, edge_labels=edge_attributes)"
   ],
   "outputs": [
    {
     "name": "stdout",
     "output_type": "stream",
     "text": [
      "{'A': array([-0.64153279, -0.68555087]), 'B': array([-0.03307913, -0.46344795]), 'C': array([0.34927952, 0.14899882]), 'D': array([0.32533239, 1.        ])}\n",
      "['A', 'B', 'C', 'D']\n",
      "[('A', 'B'), ('B', 'C'), ('C', 'D')]\n",
      "{('A', 'B'): 3, ('B', 'C'): 2, ('B', 'D'): 10, ('C', 'D'): 4}\n"
     ]
    },
    {
     "data": {
      "text/plain": [
       "{('A', 'B'): Text(-0.33730444158878203, -0.5744988579904428, '3'),\n",
       " ('B', 'C'): Text(0.15809963128149018, -0.1572254685169443, '2'),\n",
       " ('B', 'D'): Text(0.14612330264773488, 0.26826243337169364, '10'),\n",
       " ('C', 'D'): Text(0.33730557995777755, 0.5745128937950281, '4')}"
      ]
     },
     "execution_count": 43,
     "metadata": {},
     "output_type": "execute_result"
    },
    {
     "data": {
      "text/plain": [
       "<Figure size 640x480 with 1 Axes>"
      ],
      "image/png": "[encoded data removed]"
     },
     "metadata": {},
     "output_type": "display_data"
    }
   ],
   "execution_count": 43
  },
  {
   "cell_type": "code",
   "metadata": {
    "collapsed": false,
    "jupyter": {
     "outputs_hidden": false
    },
    "ExecuteTime": {
     "end_time": "2025-05-16T10:22:30.542444Z",
     "start_time": "2025-05-16T10:22:30.540431Z"
    }
   },
   "source": [
    "costs_undir = sum(edge_attributes[i] for i in edgeList)\n",
    "print(costs_undir)"
   ],
   "outputs": [
    {
     "name": "stdout",
     "output_type": "stream",
     "text": [
      "9\n"
     ]
    }
   ],
   "execution_count": 44
  },
  {
   "cell_type": "markdown",
   "metadata": {},
   "source": [
    "### Directed Graph\n"
   ]
  },
  {
   "cell_type": "code",
   "metadata": {
    "collapsed": false,
    "jupyter": {
     "outputs_hidden": false
    },
    "ExecuteTime": {
     "end_time": "2025-05-16T10:22:30.573314Z",
     "start_time": "2025-05-16T10:22:30.571632Z"
    }
   },
   "source": [
    "# remove edge B-D from example\n",
    "try:\n",
    "    G_dir.remove_edge(\"B\",\"D\")\n",
    "except:\n",
    "    print(\"no edge existing\")"
   ],
   "outputs": [],
   "execution_count": 45
  },
  {
   "cell_type": "code",
   "metadata": {
    "collapsed": false,
    "jupyter": {
     "outputs_hidden": false
    },
    "ExecuteTime": {
     "end_time": "2025-05-16T10:22:30.606533Z",
     "start_time": "2025-05-16T10:22:30.604633Z"
    }
   },
   "source": [
    "shortest_path = nx.shortest_path(G_dir,source=\"A\",target=\"D\", weight=\"weight\")\n",
    "print(shortest_path)"
   ],
   "outputs": [
    {
     "name": "stdout",
     "output_type": "stream",
     "text": [
      "['A', 'B', 'C', 'D']\n"
     ]
    }
   ],
   "execution_count": 46
  },
  {
   "cell_type": "code",
   "metadata": {
    "collapsed": false,
    "jupyter": {
     "outputs_hidden": false
    },
    "ExecuteTime": {
     "end_time": "2025-05-16T10:22:30.698003Z",
     "start_time": "2025-05-16T10:22:30.638840Z"
    }
   },
   "source": [
    "fig, axes = plt.subplots()\n",
    "\n",
    "# Draw nodes and edges\n",
    "nx.draw(G_dir, pos, with_labels=True, node_color=colors, node_size=600.0)\n",
    "\n",
    "# Get specific edge attribute and draw\n",
    "edge_attributes = nx.get_edge_attributes(G_dir,'weight')\n",
    "nx.draw_networkx_edge_labels(G_dir, pos, edge_labels=edge_attributes)\n",
    "\n",
    "# Generate and draw the solution path\n",
    "edgeList = [(shortest_path[i],shortest_path[i+1]) for i in range(len(shortest_path)-1)]\n",
    "nx.draw_networkx_edges(G_dir, pos, edgelist=edgeList, edge_color=\"red\", width=4.0)"
   ],
   "outputs": [
    {
     "data": {
      "text/plain": [
       "[<matplotlib.patches.FancyArrowPatch at 0x113bc0b90>,\n",
       " <matplotlib.patches.FancyArrowPatch at 0x113bc0cd0>,\n",
       " <matplotlib.patches.FancyArrowPatch at 0x113bc0e10>]"
      ]
     },
     "execution_count": 47,
     "metadata": {},
     "output_type": "execute_result"
    },
    {
     "data": {
      "text/plain": [
       "<Figure size 640x480 with 1 Axes>"
      ],
      "image/png": "[encoded data removed]"
     },
     "metadata": {},
     "output_type": "display_data"
    }
   ],
   "execution_count": 47
  },
  {
   "cell_type": "code",
   "metadata": {
    "collapsed": false,
    "jupyter": {
     "outputs_hidden": false
    },
    "ExecuteTime": {
     "end_time": "2025-05-16T10:22:30.710160Z",
     "start_time": "2025-05-16T10:22:30.708383Z"
    }
   },
   "source": [
    "costs_dir = sum(edge_attributes[i] for i in edgeList)\n",
    "print(costs_dir)"
   ],
   "outputs": [
    {
     "name": "stdout",
     "output_type": "stream",
     "text": [
      "13\n"
     ]
    }
   ],
   "execution_count": 48
  },
  {
   "cell_type": "markdown",
   "metadata": {},
   "source": [
    "## Further tests\n"
   ]
  },
  {
   "cell_type": "code",
   "metadata": {
    "collapsed": false,
    "jupyter": {
     "outputs_hidden": false
    },
    "ExecuteTime": {
     "end_time": "2025-05-16T10:22:30.747317Z",
     "start_time": "2025-05-16T10:22:30.745049Z"
    }
   },
   "source": [
    "nx.is_connected(G_undir)"
   ],
   "outputs": [
    {
     "data": {
      "text/plain": [
       "True"
      ]
     },
     "execution_count": 49,
     "metadata": {},
     "output_type": "execute_result"
    }
   ],
   "execution_count": 49
  },
  {
   "cell_type": "code",
   "metadata": {
    "collapsed": false,
    "jupyter": {
     "outputs_hidden": false
    },
    "ExecuteTime": {
     "end_time": "2025-05-16T10:22:30.782683Z",
     "start_time": "2025-05-16T10:22:30.780394Z"
    }
   },
   "source": [
    "nx.cycle_basis(G_undir)"
   ],
   "outputs": [
    {
     "data": {
      "text/plain": [
       "[['C', 'B', 'D']]"
      ]
     },
     "execution_count": 50,
     "metadata": {},
     "output_type": "execute_result"
    }
   ],
   "execution_count": 50
  },
  {
   "cell_type": "code",
   "metadata": {
    "collapsed": false,
    "jupyter": {
     "outputs_hidden": false
    },
    "ExecuteTime": {
     "end_time": "2025-05-16T10:22:30.819802Z",
     "start_time": "2025-05-16T10:22:30.817553Z"
    }
   },
   "source": [
    "for i in nx.simple_cycles(G_dir):\n",
    "    print(i)"
   ],
   "outputs": [
    {
     "name": "stdout",
     "output_type": "stream",
     "text": [
      "['C', 'D', 'B']\n"
     ]
    }
   ],
   "execution_count": 51
  },
  {
   "cell_type": "markdown",
   "metadata": {},
   "source": [
    "## Representation\n"
   ]
  },
  {
   "cell_type": "code",
   "metadata": {
    "collapsed": false,
    "jupyter": {
     "outputs_hidden": false
    },
    "ExecuteTime": {
     "end_time": "2025-05-16T10:22:30.858853Z",
     "start_time": "2025-05-16T10:22:30.857081Z"
    }
   },
   "source": [
    "print(G.nodes())"
   ],
   "outputs": [
    {
     "name": "stdout",
     "output_type": "stream",
     "text": [
      "[1, 2, 3, 'A', 'Bob', 'Marie', '1']\n"
     ]
    }
   ],
   "execution_count": 52
  },
  {
   "cell_type": "markdown",
   "metadata": {},
   "source": [
    "Add again edge with weight=4.0 between B-D to align with example in slides"
   ]
  },
  {
   "cell_type": "code",
   "metadata": {
    "tags": [],
    "ExecuteTime": {
     "end_time": "2025-05-16T10:22:30.889555Z",
     "start_time": "2025-05-16T10:22:30.887796Z"
    }
   },
   "source": [
    "G_dir.add_edge(\"B\",\"D\", weight=4)"
   ],
   "outputs": [],
   "execution_count": 53
  },
  {
   "cell_type": "markdown",
   "metadata": {},
   "source": [
    "Check https://networkx.github.io/documentation/latest/reference/generated/networkx.linalg.graphmatrix.adjacency_matrix.html#networkx.linalg.graphmatrix.adjacency_matrix !\n",
    "\n"
   ]
  },
  {
   "cell_type": "code",
   "metadata": {
    "collapsed": false,
    "jupyter": {
     "outputs_hidden": false
    },
    "ExecuteTime": {
     "end_time": "2025-05-16T10:22:30.910624Z",
     "start_time": "2025-05-16T10:22:30.908915Z"
    }
   },
   "source": [
    "print(G_dir.nodes())\n",
    "print(sorted(G_dir.nodes()))"
   ],
   "outputs": [
    {
     "name": "stdout",
     "output_type": "stream",
     "text": [
      "['A', 'B', 'C', 'D']\n",
      "['A', 'B', 'C', 'D']\n"
     ]
    }
   ],
   "execution_count": 54
  },
  {
   "cell_type": "code",
   "metadata": {
    "collapsed": false,
    "jupyter": {
     "outputs_hidden": false
    },
    "ExecuteTime": {
     "end_time": "2025-05-16T10:22:31.097734Z",
     "start_time": "2025-05-16T10:22:30.944975Z"
    }
   },
   "source": [
    "adj_matrix = nx.adjacency_matrix(G_dir, sorted(G_dir.nodes()))"
   ],
   "outputs": [],
   "execution_count": 55
  },
  {
   "cell_type": "code",
   "metadata": {
    "collapsed": false,
    "jupyter": {
     "outputs_hidden": false
    },
    "ExecuteTime": {
     "end_time": "2025-05-16T10:22:31.106782Z",
     "start_time": "2025-05-16T10:22:31.104157Z"
    }
   },
   "source": [
    "adj_matrix.toarray()"
   ],
   "outputs": [
    {
     "data": {
      "text/plain": [
       "array([[0, 2, 0, 0],\n",
       "       [0, 0, 3, 4],\n",
       "       [0, 0, 0, 8],\n",
       "       [0, 7, 0, 0]])"
      ]
     },
     "execution_count": 56,
     "metadata": {},
     "output_type": "execute_result"
    }
   ],
   "execution_count": 56
  },
  {
   "cell_type": "markdown",
   "metadata": {},
   "source": [
    "# Layouting\n",
    "\n",
    "In the planning environment it will be important to place the node at certain positions. In the following some hints are given how to use attributes of nodes in NetworkX to do so."
   ]
  },
  {
   "cell_type": "code",
   "metadata": {
    "tags": [],
    "ExecuteTime": {
     "end_time": "2025-05-16T10:22:31.405329Z",
     "start_time": "2025-05-16T10:22:31.403852Z"
    }
   },
   "source": [
    "G_graph = nx.Graph()\n"
   ],
   "outputs": [],
   "execution_count": 57
  },
  {
   "cell_type": "code",
   "metadata": {
    "tags": [],
    "ExecuteTime": {
     "end_time": "2025-05-16T10:22:31.715043Z",
     "start_time": "2025-05-16T10:22:31.713240Z"
    }
   },
   "source": [
    "# Attribute \"mypos\" and not \"pos\" is chosen to demonstrate, that there is no dedicate position attribute\n",
    "G_graph.add_node(\"A\", mypos = [0,1])"
   ],
   "outputs": [],
   "execution_count": 58
  },
  {
   "cell_type": "code",
   "metadata": {
    "tags": [],
    "ExecuteTime": {
     "end_time": "2025-05-16T10:22:31.792228Z",
     "start_time": "2025-05-16T10:22:31.790481Z"
    }
   },
   "source": [
    "G_graph.add_node(\"B\", mypos = [10,1])\n",
    "G_graph.add_node(\"C\", mypos = [1,10])\n",
    "G_graph.add_node(\"D\", mypos = [1,8])"
   ],
   "outputs": [],
   "execution_count": 59
  },
  {
   "cell_type": "code",
   "metadata": {
    "tags": [],
    "ExecuteTime": {
     "end_time": "2025-05-16T10:22:31.830299Z",
     "start_time": "2025-05-16T10:22:31.828609Z"
    }
   },
   "source": [
    "G_graph.add_edge(\"A\",\"B\")\n",
    "G_graph.add_edge(\"B\",\"C\")"
   ],
   "outputs": [],
   "execution_count": 60
  },
  {
   "cell_type": "code",
   "metadata": {
    "ExecuteTime": {
     "end_time": "2025-05-16T10:22:31.858144Z",
     "start_time": "2025-05-16T10:22:31.855967Z"
    }
   },
   "source": [
    "G_graph.nodes(data=True)"
   ],
   "outputs": [
    {
     "data": {
      "text/plain": [
       "NodeDataView({'A': {'mypos': [0, 1]}, 'B': {'mypos': [10, 1]}, 'C': {'mypos': [1, 10]}, 'D': {'mypos': [1, 8]}})"
      ]
     },
     "execution_count": 61,
     "metadata": {},
     "output_type": "execute_result"
    }
   ],
   "execution_count": 61
  },
  {
   "cell_type": "code",
   "metadata": {
    "collapsed": false,
    "jupyter": {
     "outputs_hidden": false
    },
    "ExecuteTime": {
     "end_time": "2025-05-16T10:22:31.887548Z",
     "start_time": "2025-05-16T10:22:31.885919Z"
    }
   },
   "source": [
    "pos_dict = nx.get_node_attributes(G_graph,'mypos')"
   ],
   "outputs": [],
   "execution_count": 62
  },
  {
   "cell_type": "code",
   "metadata": {
    "ExecuteTime": {
     "end_time": "2025-05-16T10:22:31.918129Z",
     "start_time": "2025-05-16T10:22:31.916Z"
    }
   },
   "source": [
    "pos_dict"
   ],
   "outputs": [
    {
     "data": {
      "text/plain": [
       "{'A': [0, 1], 'B': [10, 1], 'C': [1, 10], 'D': [1, 8]}"
      ]
     },
     "execution_count": 63,
     "metadata": {},
     "output_type": "execute_result"
    }
   ],
   "execution_count": 63
  },
  {
   "cell_type": "code",
   "metadata": {
    "collapsed": false,
    "jupyter": {
     "outputs_hidden": false
    },
    "ExecuteTime": {
     "end_time": "2025-05-16T10:22:31.984111Z",
     "start_time": "2025-05-16T10:22:31.945130Z"
    }
   },
   "source": [
    "fig, axes = plt.subplots()\n",
    "\n",
    "nx.draw(G_graph, pos=pos_dict, with_labels=True)   "
   ],
   "outputs": [
    {
     "data": {
      "text/plain": [
       "<Figure size 640x480 with 1 Axes>"
      ],
      "image/png": "[encoded data removed]"
     },
     "metadata": {},
     "output_type": "display_data"
    }
   ],
   "execution_count": 64
  },
  {
   "cell_type": "code",
   "metadata": {
    "collapsed": false,
    "jupyter": {
     "outputs_hidden": false
    },
    "ExecuteTime": {
     "end_time": "2025-05-16T10:22:32.029523Z",
     "start_time": "2025-05-16T10:22:31.990851Z"
    }
   },
   "source": [
    "fig, axes = plt.subplots()\n",
    "\n",
    "nx.draw(G_graph, pos=pos_dict, with_labels=False)\n",
    "nx.draw_networkx_edges(G_graph,pos_dict,\n",
    "                           edge_color='b',\n",
    "                            width=3.0\n",
    "                        )"
   ],
   "outputs": [
    {
     "data": {
      "text/plain": [
       "<matplotlib.collections.LineCollection at 0x117d84f50>"
      ]
     },
     "execution_count": 65,
     "metadata": {},
     "output_type": "execute_result"
    },
    {
     "data": {
      "text/plain": [
       "<Figure size 640x480 with 1 Axes>"
      ],
      "image/png": "[encoded data removed]"
     },
     "metadata": {},
     "output_type": "display_data"
    }
   ],
   "execution_count": 65
  },
  {
   "cell_type": "code",
   "metadata": {
    "ExecuteTime": {
     "end_time": "2025-05-16T10:22:32.043792Z",
     "start_time": "2025-05-16T10:22:32.042211Z"
    }
   },
   "source": [
    "for node in G_graph.nodes(data=True):\n",
    "    print(node)"
   ],
   "outputs": [
    {
     "name": "stdout",
     "output_type": "stream",
     "text": [
      "('A', {'mypos': [0, 1]})\n",
      "('B', {'mypos': [10, 1]})\n",
      "('C', {'mypos': [1, 10]})\n",
      "('D', {'mypos': [1, 8]})\n"
     ]
    }
   ],
   "execution_count": 66
  },
  {
   "cell_type": "code",
   "metadata": {
    "tags": [],
    "ExecuteTime": {
     "end_time": "2025-05-16T10:22:32.079243Z",
     "start_time": "2025-05-16T10:22:32.077625Z"
    }
   },
   "source": [
    "a = G_graph.nodes[\"A\"]"
   ],
   "outputs": [],
   "execution_count": 67
  },
  {
   "cell_type": "markdown",
   "metadata": {},
   "source": [
    "Conclusion\n",
    "=========="
   ]
  },
  {
   "cell_type": "markdown",
   "metadata": {},
   "source": [
    "Using and drawing of graphs can be done very nicely with the combination of networkX and matplotlib"
   ]
  },
  {
   "cell_type": "markdown",
   "metadata": {},
   "source": [
    "# Exercice"
   ]
  },
  {
   "cell_type": "markdown",
   "metadata": {},
   "source": [
    "1. Graph with x nodes at random position\n",
    "2. Graph with x nodes at random position and all nodes are connected with edges\n",
    "3. Graph with x nodes at random position, nodes with given distance are connected\n"
   ]
  },
  {
   "metadata": {
    "ExecuteTime": {
     "end_time": "2025-05-16T10:46:43.503551Z",
     "start_time": "2025-05-16T10:46:43.500085Z"
    }
   },
   "cell_type": "code",
   "source": [
    "# Graph with x nodes at random position\n",
    "import random as rand\n",
    "for i in range(100):\n",
    "    G_graph.add_node(i, mypos = [rand.uniform(0, 80), rand.uniform(0, 80)])\n",
    "print(G_graph.nodes())\n",
    "print(G_graph.edges())\n",
    "pos_dict_random = nx.get_node_attributes(G_graph,'mypos')\n",
    "print(pos_dict_random)"
   ],
   "outputs": [
    {
     "name": "stdout",
     "output_type": "stream",
     "text": [
      "['A', 'B', 'C', 'D', 0, 1, 2, 3, 4, 5, 6, 7, 8, 9, 10, 11, 12, 13, 14, 15, 16, 17, 18, 19, 20, 21, 22, 23, 24, 25, 26, 27, 28, 29, 30, 31, 32, 33, 34, 35, 36, 37, 38, 39, 40, 41, 42, 43, 44, 45, 46, 47, 48, 49, 50, 51, 52, 53, 54, 55, 56, 57, 58, 59, 60, 61, 62, 63, 64, 65, 66, 67, 68, 69, 70, 71, 72, 73, 74, 75, 76, 77, 78, 79, 80, 81, 82, 83, 84, 85, 86, 87, 88, 89, 90, 91, 92, 93, 94, 95, 96, 97, 98, 99]\n",
      "[('A', 'B'), ('B', 'C')]\n",
      "{'A': [0, 1], 'B': [10, 1], 'C': [1, 10], 'D': [1, 8], 0: [73.98895503521256, 75.12606605731062], 1: [56.13263066831014, 58.56095253137919], 2: [57.47810699494355, 67.05723624803773], 3: [1.7139882581112698, 42.766045454778904], 4: [78.27010597921279, 1.0152209651814026], 5: [43.991223592599916, 53.0346327504433], 6: [22.378762768237408, 0.8394440550254512], 7: [48.4973577590135, 63.69103116897626], 8: [54.41137046629975, 33.14968682676373], 9: [19.648295513373945, 47.44796924610806], 10: [65.48635268922617, 59.83896497645647], 11: [76.05579785412569, 17.2013651641765], 12: [20.023899695999432, 52.104482924095585], 13: [68.21217278556036, 60.74359022996151], 14: [34.205086519706924, 16.82084740740582], 15: [78.1623300580532, 50.75279413062817], 16: [30.263057828078075, 52.32488363803129], 17: [38.77245101348475, 0.3298566843392514], 18: [9.668631295706005, 61.77423706683753], 19: [45.59147784472324, 4.511861219110598], 20: [27.80403937012146, 6.680622402185374], 21: [4.6088692359462335, 26.50104130422683], 22: [26.20489355730068, 71.97715202432275], 23: [27.8471008323835, 55.61267167889686], 24: [45.04421713720358, 23.267317858511927], 25: [13.868960618848236, 2.6820697334152754], 26: [5.947617721654588, 55.22635831664198], 27: [52.581157340269996, 30.97604781927118], 28: [36.24464590726734, 10.70282144391852], 29: [26.331776369492275, 26.29454774879693], 30: [72.68427323982381, 66.61415495247789], 31: [28.18673957317231, 66.58662028895196], 32: [51.55527803911683, 40.69776476377626], 33: [66.0096019688474, 50.0396639836232], 34: [69.36014659914541, 66.62717697175039], 35: [34.16069983711334, 59.32363873959972], 36: [0.2990502455696298, 77.66832606780929], 37: [61.28936493124907, 12.430753205282734], 38: [5.553571586528179, 39.55118839191776], 39: [51.03274626605415, 51.402381287587666], 40: [9.269313709517615, 10.912990486238918], 41: [64.6212779544533, 69.3180991959453], 42: [47.553051337880234, 21.403204834974243], 43: [42.76745469805637, 48.66136733615468], 44: [62.79831718565352, 67.26272634167127], 45: [54.21821414373334, 53.73075147067407], 46: [47.38749904916376, 51.9405464273794], 47: [6.072350576935923, 67.93493882049329], 48: [18.511567692470514, 77.51676809359658], 49: [35.11403182968928, 53.33295608471818], 50: [60.80965453665236, 29.240155817218685], 51: [55.321001741137465, 46.24500131170112], 52: [29.60240826027551, 51.09080310572778], 53: [17.6405429900157, 44.96528879080998], 54: [40.39223293260853, 16.225377050951302], 55: [70.088380510133, 42.49506162450422], 56: [26.520096884988497, 43.234698437323644], 57: [47.95777641534449, 2.080574307805385], 58: [16.61813695594053, 65.3388451709113], 59: [20.96542617281944, 55.61143113047626], 60: [23.295847908742353, 62.113841962315774], 61: [2.056919272907729, 59.22554745627281], 62: [40.520273269420855, 46.88261584083416], 63: [46.69685841333497, 71.3916764799741], 64: [79.42530826820457, 12.980975988524142], 65: [17.509953763063013, 22.32073548571926], 66: [13.827351114311917, 26.838637786726657], 67: [40.658266513510725, 59.294308479925846], 68: [17.24314557389554, 63.61870249108628], 69: [43.278799608380574, 56.91809876622061], 70: [53.81536543303916, 38.86385226542333], 71: [46.73836160221164, 46.081787534998924], 72: [31.004663404917636, 49.843559850683576], 73: [76.47265393283922, 50.034626599641996], 74: [49.986699398928884, 58.12267180819887], 75: [2.961473022877037, 69.80812597416848], 76: [47.27516677162575, 38.60086971176208], 77: [18.336438153469157, 30.101679159077655], 78: [33.503343639278114, 19.870364257067585], 79: [12.097882272398577, 44.489859976763555], 80: [32.42026881881894, 57.805345763324695], 81: [2.5288092818138264, 27.813436469040653], 82: [55.21601507594549, 52.739182380534196], 83: [7.981514822190885, 29.733816067850753], 84: [3.059772377519776, 8.004664915103916], 85: [29.64738749567924, 0.5589833686260715], 86: [21.464786897163783, 58.61369194002181], 87: [25.63096346742432, 53.72919641091105], 88: [60.63248342708007, 60.887971340920764], 89: [47.617415743957366, 71.06078591231054], 90: [68.86796206255613, 46.49638160972469], 91: [35.553683820813305, 17.792757983954992], 92: [25.20675761173795, 8.410643592820488], 93: [28.84026083168914, 7.806552752895595], 94: [65.64649717024056, 69.88731202873066], 95: [48.04386893058172, 33.72485549582831], 96: [41.7384772277243, 66.00720883095366], 97: [7.140705972121868, 62.20186526148511], 98: [39.98255297095535, 20.852435231509546], 99: [6.804868922382381, 71.54702738845995]}\n"
     ]
    }
   ],
   "execution_count": 91
  },
  {
   "metadata": {
    "ExecuteTime": {
     "end_time": "2025-05-16T10:46:44.697565Z",
     "start_time": "2025-05-16T10:46:44.595983Z"
    }
   },
   "cell_type": "code",
   "source": [
    "import matplotlib.pyplot as plt\n",
    "plt.figure()\n",
    "nx.draw(G_graph, pos=pos_dict_random, with_labels=True)"
   ],
   "outputs": [
    {
     "data": {
      "text/plain": [
       "<Figure size 640x480 with 1 Axes>"
      ],
      "image/png": "[encoded data removed]"
     },
     "metadata": {},
     "output_type": "display_data"
    }
   ],
   "execution_count": 92
  },
  {
   "metadata": {
    "ExecuteTime": {
     "end_time": "2025-05-16T10:49:52.599685Z",
     "start_time": "2025-05-16T10:49:52.573144Z"
    }
   },
   "cell_type": "code",
   "source": [
    "# connect all Nodes to edges\n",
    "G_graph = nx.Graph()\n",
    "nx.draw(G_graph, pos=pos_dict_random, with_labels=False)"
   ],
   "outputs": [
    {
     "data": {
      "text/plain": [
       "<Figure size 640x480 with 1 Axes>"
      ],
      "image/png": "[encoded data removed]"
     },
     "metadata": {},
     "output_type": "display_data"
    }
   ],
   "execution_count": 94
  },
  {
   "metadata": {},
   "cell_type": "code",
   "outputs": [],
   "execution_count": null,
   "source": ""
  }
 ],
 "metadata": {
  "kernelspec": {
   "display_name": "Python 3 (ipykernel)",
   "language": "python",
   "name": "python3"
  },
  "language_info": {
   "codemirror_mode": {
    "name": "ipython",
    "version": 3
   },
   "file_extension": ".py",
   "mimetype": "text/x-python",
   "name": "python",
   "nbconvert_exporter": "python",
   "pygments_lexer": "ipython3",
   "version": "3.13.2"
  },
  "vscode": {
   "interpreter": {
    "hash": "b0fa6594d8f4cbf19f97940f81e996739fb7646882a419484c72d19e05852a7e"
   }
  }
 },
 "nbformat": 4,
 "nbformat_minor": 4
}
