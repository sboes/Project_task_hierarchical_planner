{
 "cells": [
  {
   "cell_type": "markdown",
   "id": "cec06a6a-3e8f-424f-b4ab-de21af93c496",
   "metadata": {},
   "source": [
    "Benchmarking - Concepts\n",
    "======================\n",
    "**General Information about document**\n",
    "\n",
    "This is an interactive work-sheet regarding \"Benchmarking-Concepts\" for the course \"Introduction to robot path planning\" (Author: Björn Hein). It is based on the slides PRM-Basics.pdf, so please **read the information in theses slides first** (s. \"Vorlesungsarbeitsbereich\").\n",
    "\n",
    "Version | Author\n",
    "------------ | -------------\n",
    "0.1 | Björn Hein\n",
    "\n",
    "License is based on Creative Commons: Attribution-NonCommercial 4.0 International (CC BY-NC 4.0) (pls. check: http://creativecommons.org/licenses/by-nc/4.0/)\n",
    "\n",
    "This work-sheet should include all necessary incredience to implement different PRM algorithm for path planning applications in Python.\n",
    "\n",
    "\n",
    "Important links are:\n",
    "\n",
    "    General Info: http://www.python.org\n",
    "    Python tutorial http://www.python.org/doc/tut/\n",
    "    NetworkX http://networkx.github.io/\n",
    "    NumPy and SciPy Guide http://docs.scipy.org/\n",
    "    Matplotlib gallery http://matplotlib.sourceforge.net/gallery.html\n",
    "\n",
    "Remember that:\n",
    "\n",
    "    you have to press ctrl-return or shift-return, to execute the code in the code sections, only then the variables are \"generated\" and can be used\n",
    "    you can execute the whole notebook by Cell->runAll\n"
   ]
  },
  {
   "cell_type": "markdown",
   "id": "71003fc9-189f-4ecd-96a6-329530f1a198",
   "metadata": {},
   "source": [
    "## Idea"
   ]
  },
  {
   "cell_type": "markdown",
   "id": "13f3acd7-0f59-4a9f-8ce4-addb3ff46a1b",
   "metadata": {},
   "source": [
    "Basic idea is to collect data for different planer runs on different benchmarks. Therefore first is to define a **Benchmark** (s. IPBenchmark.py):\n",
    "\n",
    "```python\n",
    "\n",
    "class Benchmark(object):\n",
    "        \n",
    "    def __init__(self, name, collisionChecker, startList, goalList, description, level ):\n",
    "        \"\"\"Benchmark is used to define tests cases\n",
    "        \n",
    "        :name: Name of benchmark\n",
    "        :environment: collision checker\n",
    "        :startList: list of possible start configurations\n",
    "        :goalList: list of possible goal configurations\n",
    "        :description: textual description of the benchmark\n",
    "        :level (int): 1 -\"easy\",2 - \"normal\",3 - \"hard\", 4 - \"insane\" (Assumed level)\n",
    "        \"\"\"\n",
    "        self.name = name\n",
    "        self.collisionChecker = collisionChecker # environment (collision checker) \n",
    "        self.startList = startList # in limits, collision-free?\n",
    "        self.goalList = goalList # in limits, collision-free?\n",
    "        self.description = description\n",
    "        self.level = level # in [1,2,3,4]\n",
    "```\n"
   ]
  },
  {
   "cell_type": "markdown",
   "id": "0bab782e-8184-461a-9fd9-a2aa58fd8a01",
   "metadata": {},
   "source": [
    "## Collecting Benchmarks in a list"
   ]
  },
  {
   "cell_type": "markdown",
   "id": "1b22c94a-db5f-4333-867c-4b82cac4c844",
   "metadata": {},
   "source": [
    "Based on this description it is possible to define a list of benschmarks, e.g. (s. ITestSuite.py):\n",
    "\n",
    "\n",
    "```python\n",
    "benchList = list()\n",
    "\n",
    "# -----------------------------------------\n",
    "trapField = dict()\n",
    "trapField[\"obs1\"] =   LineString([(6, 18), (6, 8), (16, 8), (16,18)]).buffer(1.0)\n",
    "description = \"Following the direct connection from goal to start would lead the algorithm into a trap.\"\n",
    "benchList.append(Benchmark(\"Trap\", CollisionChecker(trapField), [[10,15]], [[10,1]], description, 2))\n",
    "\n",
    "# -----------------------------------------\n",
    "bottleNeckField = dict()\n",
    "bottleNeckField[\"obs1\"] = LineString([(0, 13), (11, 13)]).buffer(.5)\n",
    "bottleNeckField[\"obs2\"] = LineString([(13, 13), (23,13)]).buffer(.5)\n",
    "description = \"Planer has to find a narrow passage.\"\n",
    "benchList.append(Benchmark(\"Bottleneck\", CollisionChecker(bottleNeckField), [[4,15]], [[18,1]], description, 2))\n",
    "\n",
    "# -----------------------------------------\n",
    "fatBottleNeckField = dict()\n",
    "fatBottleNeckField[\"obs1\"] = Polygon([(0, 8), (11, 8),(11, 15), (0, 15)]).buffer(.5)\n",
    "fatBottleNeckField[\"obs2\"] = Polygon([(13, 8), (24, 8),(24, 15), (13, 15)]).buffer(.5)\n",
    "description = \"Planer has to find a narrow passage with a significant extend.\"\n",
    "benchList.append(Benchmark(\"Fat bottleneck\", CollisionChecker(fatBottleNeckField), [[4,21]], [[18,1]], description, 2))\n",
    "```\n"
   ]
  },
  {
   "cell_type": "code",
   "execution_count": null,
   "id": "fa98f18c-6686-4420-b2ba-5dae4dfcc259",
   "metadata": {},
   "outputs": [],
   "source": [
    "from IPEnvironment import CollisionChecker\n",
    "from IPBenchmark import Benchmark\n",
    "import matplotlib.pylab as plt\n",
    "from shapely.geometry import Point, Polygon, LineString\n",
    "from shapely import plotting"
   ]
  },
  {
   "cell_type": "code",
   "execution_count": null,
   "id": "64aad1b3-0dfa-46ce-9070-ed508802e12a",
   "metadata": {},
   "outputs": [],
   "source": [
    "benchList = list()\n",
    "\n",
    "trapField = dict()\n",
    "trapField[\"obs1\"] =   LineString([(6, 18), (6, 8), (16, 8), (16,18)]).buffer(1.0)\n",
    "description = \"Following the direct connection from goal to start would lead the algorithm into a trap.\"\n",
    "benchList.append(Benchmark(\"Trap\", CollisionChecker(trapField), [[10,15]], [[10,1]], description, 2))\n",
    "\n",
    "bottleNeckField = dict()\n",
    "bottleNeckField[\"obs1\"] = LineString([(0, 13), (11, 13)]).buffer(.5)\n",
    "bottleNeckField[\"obs2\"] = LineString([(13, 13), (23,13)]).buffer(.5)\n",
    "description = \"Planer has to find a narrow passage.\"\n",
    "benchList.append(Benchmark(\"Bottleneck\", CollisionChecker(bottleNeckField), [[4,15]], [[18,1]], description, 2))\n",
    "\n",
    "\n",
    "fatBottleNeckField = dict()\n",
    "fatBottleNeckField[\"obs1\"] = Polygon([(0, 8), (11, 8),(11, 15), (0, 15)]).buffer(.5)\n",
    "fatBottleNeckField[\"obs2\"] = Polygon([(13, 8), (24, 8),(24, 15), (13, 15)]).buffer(.5)\n",
    "description = \"Planer has to find a narrow passage with a significant extend.\"\n",
    "benchList.append(Benchmark(\"Fat bottleneck\", CollisionChecker(fatBottleNeckField), [[4,21]], [[18,1]], description, 2))\n",
    "\n",
    "\n",
    "myField = dict()\n",
    "myField[\"L\"] = Polygon([(10, 16), (10, 11), (13, 11), (13,12), (11,12), (11,16)])\n",
    "myField[\"T\"] = Polygon([(14,16), (14, 15), (15, 15),(15,11), (16,11), (16,15), (17, 15), (17, 16)])\n",
    "myField[\"C\"] = Polygon([(19, 16), (19, 11), (22, 11), (22, 12), (20, 12), (20, 15), (22, 15), (22, 16)])\n",
    "\n",
    "myField[\"Antenna_L\"] = Polygon([(3, 12), (1, 16), (2, 16), (4, 12)])\n",
    "myField[\"Antenna_Head_L\"] = Point(1.5, 16).buffer(1)\n",
    "\n",
    "myField[\"Antenna_R\"] = Polygon([(7, 12), (9, 16), (8, 16), (6, 12)])\n",
    "myField[\"Antenna_Head_R\"] = Point(8.5, 16).buffer(1)\n",
    "\n",
    "myField[\"Rob_Head\"] = Polygon([(2, 13), (2, 8), (8, 8), (8, 13)])\n",
    "description = \"Planer has to find a passage past a robot head and the print of the LTC.\"\n",
    "benchList.append(Benchmark(\"MyField\", CollisionChecker(myField), [[4,21]], [[18,1]], description, 2))"
   ]
  },
  {
   "cell_type": "markdown",
   "id": "c31a998e-5c71-48a0-95c0-2ae49e169716",
   "metadata": {},
   "source": [
    "## Visualizing different Benchmarks"
   ]
  },
  {
   "cell_type": "markdown",
   "id": "7e76eef7-081c-4418-aeeb-851cd4c8bb19",
   "metadata": {},
   "source": [
    "Based on this list it is possible to iteratively call different configurations of a planner with different benchmarks"
   ]
  },
  {
   "cell_type": "code",
   "execution_count": null,
   "id": "57bcf6f9-26c2-4ae9-b7aa-59607791b18e",
   "metadata": {},
   "outputs": [],
   "source": [
    "for benchmark in benchList:\n",
    "    fig = plt.figure(figsize=(5,5))\n",
    "    ax = fig.add_subplot(1,1,1)\n",
    "    limits = benchmark.collisionChecker.getEnvironmentLimits()\n",
    "    plotting.plot_points(Point(benchmark.startList[0]).buffer(.3), color=\"g\", ax=ax)\n",
    "    plotting.plot_points(Point(benchmark.goalList[0]).buffer(.3), color=\"b\", ax=ax)\n",
    "\n",
    "    ax.set_xlim(limits[0])\n",
    "    ax.set_ylim(limits[1])\n",
    "    benchmark.collisionChecker.drawObstacles(ax)"
   ]
  },
  {
   "cell_type": "markdown",
   "id": "725d32f1-d003-40f1-bccd-efc4abd1499a",
   "metadata": {},
   "source": [
    "## Testing different Benchmarks"
   ]
  },
  {
   "cell_type": "code",
   "execution_count": null,
   "id": "101df504-5e67-4963-8ccf-859cee0f9110",
   "metadata": {
    "scrolled": true
   },
   "outputs": [],
   "source": [
    "from IPBasicPRM import BasicPRM\n",
    "from IPVISBasicPRM import basicPRMVisualize # explanation see IP-5-1-PRM-Basics-class.ipynb\n",
    "from IPEnvironment import CollisionChecker\n",
    "import matplotlib.pylab as plt\n",
    "\n",
    "basicConfig = dict()\n",
    "basicConfig[\"radius\"] = 5\n",
    "basicConfig[\"numNodes\"] = 150\n",
    "\n",
    "for bench in benchList:\n",
    "    try:\n",
    "        fig_local = plt.figure(figsize=(10,10))\n",
    "        ax = fig_local.add_subplot(1,1,1)\n",
    "        basicPRM = BasicPRM(bench.collisionChecker)\n",
    "        print(\"Planning\", bench.name)\n",
    "        solution = basicPRM.planPath(bench.startList, bench.goalList, basicConfig)\n",
    "        title = bench.name\n",
    "        if solution == []:\n",
    "            title += \" (No path found!)\"\n",
    "        title += \"\\n Assumed complexity level \" + str(bench.level)\n",
    "        ax.set_title(title)\n",
    "        basicPRMVisualize(basicPRM,solution,ax=ax)\n",
    "    except Exception as e:\n",
    "        print(\"ERROR: \",bench.name, e)"
   ]
  },
  {
   "cell_type": "markdown",
   "id": "572148ba-7145-436e-b4c3-d514387df04a",
   "metadata": {},
   "source": [
    "# Collecting Data"
   ]
  },
  {
   "cell_type": "markdown",
   "id": "4bff5598-e100-4ebc-9454-a82944119abc",
   "metadata": {},
   "source": [
    "## Using profiling based on Python libraries (cProfile/pstats)"
   ]
  },
  {
   "cell_type": "markdown",
   "id": "ebb02605-2ea3-4413-b813-b3cefe42d07b",
   "metadata": {},
   "source": [
    "Following an example how to profile the algorithm using https://docs.python.org/3/library/profile.html"
   ]
  },
  {
   "cell_type": "code",
   "execution_count": null,
   "id": "b2d03b0a-20f1-4712-adc2-720608cae652",
   "metadata": {},
   "outputs": [],
   "source": [
    "from IPBasicPRM import BasicPRM\n",
    "from IPVISBasicPRM import basicPRMVisualize\n",
    "from IPEnvironment import CollisionChecker\n",
    "import matplotlib.pylab as plt\n",
    "\n",
    "# Profile module and utilities\n",
    "import cProfile\n",
    "import pstats\n",
    "from pstats import SortKey\n",
    "\n",
    "# Definition of a testing environment\n",
    "trapField = dict()\n",
    "trapField[\"obs1\"] = LineString([(6, 18), (6, 8), (16, 8), (16,18)]).buffer(1.0)\n",
    "\n",
    "environment = CollisionChecker(trapField)\n",
    "\n",
    "basicPRM = BasicPRM(environment)\n",
    "basicConfig = dict()\n",
    "basicConfig[\"radius\"] = 3\n",
    "basicConfig[\"numNodes\"] = 300\n",
    "\n",
    "start = [[10,10]]\n",
    "goal  = [[10,1]]\n",
    "\n",
    "cProfile.run('solution = basicPRM.planPath(start, goal, basicConfig)','basicprmstats') # will save astartstats to current directory\n",
    "\n",
    "\n",
    "fig_local = plt.figure(figsize=(10,10))\n",
    "ax = fig_local.add_subplot(1,1,1)\n",
    "basicPRMVisualize(basicPRM,solution,ax=ax)\n",
    "\n",
    "\n",
    "p = pstats.Stats('basicprmstats')\n",
    "p.strip_dirs().sort_stats(SortKey.CUMULATIVE).print_stats()\n",
    "p.sort_stats(SortKey.CUMULATIVE).print_stats(15)\n",
    "p.sort_stats(SortKey.CALLS).print_stats(15)\n",
    "p.sort_stats(SortKey.TIME).print_stats(15)\n",
    "\n"
   ]
  },
  {
   "cell_type": "markdown",
   "id": "fd0e57b4-882f-4d4f-afde-0d8961465634",
   "metadata": {},
   "source": [
    "## Profiling using decorators\n",
    "\n",
    "Decorators allow to \"redirect\" / \"wrap\" function calls in python, e.g.:"
   ]
  },
  {
   "cell_type": "code",
   "execution_count": null,
   "id": "0bb5ed2e-ef42-44a5-8515-31b38f6c2af0",
   "metadata": {},
   "outputs": [],
   "source": [
    "def just_some_function():\n",
    "    print(\"Super Duper!\")"
   ]
  },
  {
   "cell_type": "code",
   "execution_count": null,
   "id": "af18cab0-5168-4e0e-bde5-c924c4f2b72f",
   "metadata": {},
   "outputs": [],
   "source": [
    "just_some_function()"
   ]
  },
  {
   "cell_type": "code",
   "execution_count": null,
   "id": "bf86ad73-d154-4ada-81db-36434b7852f3",
   "metadata": {},
   "outputs": [],
   "source": [
    "def my_decorator(some_function):\n",
    "    print(\"Info - I was called\")\n",
    "    intern = 0\n",
    "    print(intern)\n",
    "    \n",
    "    def wrapper():\n",
    "        nonlocal intern\n",
    "        intern += 1\n",
    "        print(\"Something is happening before some_function() is called.\", intern)\n",
    "\n",
    "        some_function()\n",
    "\n",
    "        print(\"Something is happening after some_function() is called.\", intern)\n",
    "\n",
    "    return wrapper"
   ]
  },
  {
   "cell_type": "code",
   "execution_count": null,
   "id": "873c3fe4-a729-4575-a70f-98ddc3772f51",
   "metadata": {},
   "outputs": [],
   "source": [
    "just_some_function = my_decorator(just_some_function)\n",
    "just_some_function()"
   ]
  },
  {
   "cell_type": "code",
   "execution_count": null,
   "id": "d6960333-9dc8-4343-b96c-73dbf6b0263a",
   "metadata": {},
   "outputs": [],
   "source": [
    "for i in range(4):\n",
    "    just_some_function()"
   ]
  },
  {
   "cell_type": "markdown",
   "id": "9baa1b95-265d-49f2-afeb-614ee6e2185a",
   "metadata": {},
   "source": [
    "### Syntactic sugar"
   ]
  },
  {
   "cell_type": "code",
   "execution_count": null,
   "id": "1038d429-a4bc-47be-bf1b-71c692b00943",
   "metadata": {},
   "outputs": [],
   "source": [
    "@my_decorator\n",
    "def just_some_function():\n",
    "    print(\"Supder Duper!\")"
   ]
  },
  {
   "cell_type": "code",
   "execution_count": null,
   "id": "aad340f4-ea00-4044-8172-2feb899034a2",
   "metadata": {},
   "outputs": [],
   "source": [
    "for i in range(4):\n",
    "    just_some_function()\n"
   ]
  },
  {
   "cell_type": "markdown",
   "id": "312cb353-49b9-4da5-828a-6e85f48f6f02",
   "metadata": {},
   "source": [
    "**Please take note:** The print statement \"Info - I was called\" is called when defining the function with the decorator. In the notebook, if you execute the cell. In a typical python module when you import/load the module.\n",
    "\n",
    "The IKPerfMonitor-Module defines a decorator class that can be used to collect data. Please check the examples in the search algorithms (e.g. IKRRT, IKPRMDistanceBased, IKVisibilityRoadmap, etc.):\n",
    "\n",
    "```python\n",
    "import pandas\n",
    "import time\n",
    "\n",
    "class IPPerfMonitor(object):\n",
    "    \"Decorator that keeps track of the number of times a function is called.\"\n",
    "\n",
    "    __instances = {}\n",
    "\n",
    "    def __init__(self, f):\n",
    "\n",
    "        self.__f = f\n",
    "        self.data = []\n",
    "        IPPerfMonitor.__instances[f] = self\n",
    "\n",
    "    def __call__(self, *args, **kwargs):\n",
    "        \n",
    "        starttime = time.time()\n",
    "        ret = self.__f(*args, **kwargs)\n",
    "        endtime = time.time()\n",
    "        element = {'args': args, 'kwargs': kwargs, \"retVal\": ret, \"time\": endtime-starttime}\n",
    "        self.data.append(element)\n",
    "        \n",
    "        return ret\n",
    "\n",
    "    def _showargs(self, *fargs, **kw):\n",
    "        print(\"T: enter {} with args={}, kw={}\".format(self.__f.__name__, str(fargs), str(kw)))\n",
    "\n",
    "\n",
    "    def __get__(self, instance, owner):\n",
    "        from functools import partial\n",
    "        return partial(self.__call__, instance)\n",
    "\n",
    "    @staticmethod\n",
    "    def dataFrame():\n",
    "        \"Return a dict of {function: # of calls} for all registered functions.\"\n",
    "        result = []\n",
    "        for f in IPPerfMonitor.__instances:\n",
    "            \n",
    "            for dataElement in IPPerfMonitor.__instances[f].data:\n",
    "                context = dict({\"name\": f.__name__})\n",
    "                context.update(dataElement)\n",
    "                result.append(context)\n",
    "        return pandas.DataFrame.from_dict(result)\n",
    "\n",
    "    @staticmethod\n",
    "    def clearData():\n",
    "       \"Clear data\"\n",
    "       for f in IPPerfMonitor.__instances:\n",
    "            del IPPerfMonitor.__instances[f].data[:]\n",
    "```"
   ]
  },
  {
   "cell_type": "markdown",
   "id": "028e4c42-b711-41ef-ae0f-e0f679766460",
   "metadata": {},
   "source": [
    "### Profiling planning algorithms\n",
    "\n",
    "Some of the functions of the provided planning algorithm are equiped with decorators, e.g. (excerpt from IBasicPRM.py):\n",
    "\n",
    "\n",
    "```python\n",
    "class BasicPRM(IPPRMBase.PRMBase):\n",
    "\n",
    "    def __init__(self, _collChecker):\n",
    "        super(BasicPRM, self).__init__(_collChecker)\n",
    "        self.graph = nx.Graph()\n",
    "\n",
    "    \n",
    "    @IPPerfMonitor\n",
    "    def _inSameConnectedComponent(self, node1, node2):\n",
    "        \"\"\" Check whether to nodes are part of the same connected component using\n",
    "            functionality from NetworkX\n",
    "        \"\"\"\n",
    "        for connectedComponent in nx.connected_components(self.graph):\n",
    "            if (node1 in connectedComponent) & (node2 in connectedComponent):\n",
    "                return True\n",
    "\n",
    "        return False\n",
    "\n",
    "    \n",
    "    @IPPerfMonitor\n",
    "    def _nearestNeighbours(self, pos, radius):\n",
    "        \"\"\" Brute Force method to find all nodes of a \n",
    "        graph near the given position **pos** with in the distance of\n",
    "        **radius** \"\"\"\n",
    "\n",
    "        result = list()\n",
    "        for node in self.graph.nodes(data=True):\n",
    "            if euclidean(node[1]['pos'],pos) <= radius:\n",
    "                result.append(node)\n",
    "\n",
    "        return result\n",
    "```\n",
    "....\n",
    "\n",
    "This allows to execute something like:"
   ]
  },
  {
   "cell_type": "code",
   "execution_count": null,
   "id": "079d0a5a-c430-4a0b-8f0d-93c5334169ab",
   "metadata": {},
   "outputs": [],
   "source": [
    "from IPBasicPRM import BasicPRM\n",
    "from IPVISBasicPRM import basicPRMVisualize\n",
    "from IPEnvironment import CollisionChecker\n",
    "from IPPerfMonitor import IPPerfMonitor\n",
    "import matplotlib.pylab as plt\n",
    "\n",
    "# Definition of a testing environment\n",
    "trapField = dict()\n",
    "trapField[\"obs1\"] = LineString([(6, 18), (6, 8), (16, 8), (16,18)]).buffer(1.0)\n",
    "\n",
    "environment = CollisionChecker(trapField)\n",
    "\n",
    "basicPRM = BasicPRM(environment)\n",
    "basicConfig = dict()\n",
    "basicConfig[\"radius\"] = 3\n",
    "basicConfig[\"numNodes\"] = 300\n",
    "\n",
    "start = [[10,10]]\n",
    "goal  = [[10,1]]\n",
    "\n",
    "##### if multiple calls are done IPPerfMonitor must be resetted (counts globally)\n",
    "IPPerfMonitor.clearData()\n",
    "\n",
    "solution = basicPRM.planPath(start, goal, basicConfig)\n",
    "\n",
    "fig_local = plt.figure(figsize=(10,10))\n",
    "ax = fig_local.add_subplot(1,1,1)\n",
    "basicPRMVisualize(basicPRM,solution,ax=ax)\n"
   ]
  },
  {
   "cell_type": "code",
   "execution_count": null,
   "id": "1ab326d6-9a20-4af1-a4de-9dc2b29f0f5a",
   "metadata": {},
   "outputs": [],
   "source": [
    "df = IPPerfMonitor.dataFrame()"
   ]
  },
  {
   "cell_type": "code",
   "execution_count": null,
   "id": "2bd10fb9-b06a-4004-bc6d-03fa4160c032",
   "metadata": {},
   "outputs": [],
   "source": [
    "df"
   ]
  },
  {
   "cell_type": "code",
   "execution_count": null,
   "id": "d589c8ba-72db-44a0-a3e4-d13bea1af905",
   "metadata": {},
   "outputs": [],
   "source": [
    "df.groupby([\"name\"]).count()"
   ]
  },
  {
   "cell_type": "code",
   "execution_count": null,
   "id": "fbbc1310-6af0-4646-a1c4-06341c95bae8",
   "metadata": {},
   "outputs": [],
   "source": [
    "df[(df.name=='lineInCollision') & (df.retVal==True)].count()"
   ]
  },
  {
   "cell_type": "code",
   "execution_count": null,
   "id": "68d90c4f-19d5-49cf-b5b6-bdac4832bef6",
   "metadata": {},
   "outputs": [],
   "source": []
  },
  {
   "cell_type": "markdown",
   "id": "effe9598-6f9a-412c-a6ae-0494bc9098f0",
   "metadata": {},
   "source": [
    "# Setting up a TestSuite\n",
    "\n",
    "It makes probably sense to collect all benchmarks, in principle the list, in a dedicated module. Therefore the proposal would be to use such as (please check IPTestSuite.py):\n",
    "\n",
    "``` python\n",
    "from IPBenchmark import Benchmark \n",
    "from IPEnvironment import CollisionChecker\n",
    "from shapely.geometry import Point, Polygon, LineString\n",
    "import shapely.affinity\n",
    "import math\n",
    "import numpy as np\n",
    "\n",
    "\n",
    "benchList = list()\n",
    "\n",
    "# -----------------------------------------\n",
    "trapField = dict()\n",
    "trapField[\"obs1\"] =   LineString([(6, 18), (6, 8), (16, 8), (16,18)]).buffer(1.0)\n",
    "description = \"Following the direct connection from goal to start would lead the algorithm into a trap.\"\n",
    "benchList.append(Benchmark(\"Trap\", CollisionChecker(trapField), [[10,15]], [[10,1]], description, 2))\n",
    "\n",
    "# -----------------------------------------\n",
    "bottleNeckField = dict()\n",
    "bottleNeckField[\"obs1\"] = LineString([(0, 13), (11, 13)]).buffer(.5)\n",
    "bottleNeckField[\"obs2\"] = LineString([(13, 13), (23,13)]).buffer(.5)\n",
    "description = \"Planer has to find a narrow passage.\"\n",
    "benchList.append(Benchmark(\"Bottleneck\", CollisionChecker(bottleNeckField), [[4,15]], [[18,1]], description, 2))\n",
    "\n",
    "# -----------------------------------------\n",
    "fatBottleNeckField = dict()\n",
    "fatBottleNeckField[\"obs1\"] = Polygon([(0, 8), (11, 8),(11, 15), (0, 15)]).buffer(.5)\n",
    "fatBottleNeckField[\"obs2\"] = Polygon([(13, 8), (24, 8),(24, 15), (13, 15)]).buffer(.5)\n",
    "description = \"Planer has to find a narrow passage with a significant extend.\"\n",
    "benchList.append(Benchmark(\"Fat bottleneck\", CollisionChecker(fatBottleNeckField), [[4,21]], [[18,1]], description, 2))\n",
    "\n",
    "# -----------------------------------------\n",
    "trapField = dict()\n",
    "for i in range(10, 1300, 10) :\n",
    "    radius = 1.0 * (i / 500.0)\n",
    "    width = 1.0 * (i / 5000.0)\n",
    "    trapField[\"obsA\"+str(i/10)] = Point([(10 - np.cos(np.deg2rad(i))*radius, 10 - np.sin(np.deg2rad(i))*radius)]).buffer(width)\n",
    "    trapField[\"obsB\"+str(i/10)] = Point([(15 + np.sin(np.deg2rad(i))*radius, 15 + np.cos(np.deg2rad(i))*radius)]).buffer(width)\n",
    "trapField[\"obsC\"] = LineString([(5, 0.5), (5, 10), (15, 20), (20,20)]).buffer(0.5)\n",
    "\n",
    "start = [[10,10]]\n",
    "goal = [[15,15]]\n",
    "\n",
    "description = \"Two spirals block the way from start to goal.\"\n",
    "benchList.append(Benchmark(\"Spirals\", CollisionChecker(trapField), start, goal, description, 4))\n",
    "\n",
    "\n",
    "```"
   ]
  },
  {
   "cell_type": "markdown",
   "id": "4c0ae6b3-4e42-4bf4-9873-a06db9cf07b4",
   "metadata": {},
   "source": [
    "This allows to use it like this:"
   ]
  },
  {
   "cell_type": "code",
   "execution_count": null,
   "id": "b831d51a-8d58-4180-9476-0f17704170e4",
   "metadata": {},
   "outputs": [],
   "source": [
    "import IPTestSuite as ts\n",
    "import importlib # if changes are done during develpment this enforces reload of modules\n",
    "importlib.reload(ts)"
   ]
  },
  {
   "cell_type": "code",
   "execution_count": null,
   "id": "6adaef97-c44d-4cef-8c72-979b4ced6efa",
   "metadata": {},
   "outputs": [],
   "source": [
    "basicConfig = dict()\n",
    "basicConfig[\"radius\"] = 5\n",
    "basicConfig[\"numNodes\"] = 400"
   ]
  },
  {
   "cell_type": "code",
   "execution_count": null,
   "id": "bbe5711c-36d3-4406-81a2-fe6e3c8051d6",
   "metadata": {},
   "outputs": [],
   "source": [
    "for benchmark in ts.benchList:\n",
    "    try:\n",
    "        fig_local = plt.figure(figsize=(10,10))\n",
    "        ax = fig_local.add_subplot(1,1,1)\n",
    "        basicPRM = BasicPRM(benchmark.collisionChecker)\n",
    "        print(\"Planning\", benchmark.name)\n",
    "        solution = basicPRM.planPath(benchmark.startList, benchmark.goalList, basicConfig)\n",
    "        title = benchmark.name\n",
    "        if solution == []:\n",
    "            title += \" (No path found!)\"\n",
    "        title += \"\\n Assumed complexity level \" + str(bench.level)\n",
    "        ax.set_title(title)\n",
    "        basicPRMVisualize(basicPRM,solution,ax=ax)\n",
    "    except Exception as e:\n",
    "        print(\"ERROR: \",benchmark.name, e)    "
   ]
  },
  {
   "cell_type": "code",
   "execution_count": null,
   "id": "81e0227c-85a7-4762-ae78-56bb01839ea6",
   "metadata": {},
   "outputs": [],
   "source": []
  },
  {
   "cell_type": "code",
   "execution_count": null,
   "id": "37301877-53b7-497d-8037-3a22adbc64a1",
   "metadata": {},
   "outputs": [],
   "source": []
  }
 ],
 "metadata": {
  "kernelspec": {
   "display_name": "Python 3 (ipykernel)",
   "language": "python",
   "name": "python3"
  },
  "language_info": {
   "codemirror_mode": {
    "name": "ipython",
    "version": 3
   },
   "file_extension": ".py",
   "mimetype": "text/x-python",
   "name": "python",
   "nbconvert_exporter": "python",
   "pygments_lexer": "ipython3",
   "version": "3.13.2"
  }
 },
 "nbformat": 4,
 "nbformat_minor": 5
}
