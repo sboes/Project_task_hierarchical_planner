{
 "cells": [
  {
   "cell_type": "markdown",
   "metadata": {
    "slideshow": {
     "slide_type": "slide"
    }
   },
   "source": [
    "Introduction\n",
    "============\n",
    "**Topic**: Setting up a simple 2D - Environment for testing \"collisions\".\n",
    "\n",
    "This is an early version of an interactive work-sheet regarding \"Introduction to path planning\".\n",
    "\n",
    "Version | Author\n",
    "------------ | -------------\n",
    "0.3 | Björn Hein\n",
    "\n",
    "One goal of the notebook series is to discuss and implement algorithms for collision-free path planning. Therefore an concept is needed, to represent and indicate obstacles during search. This notebook will give an hint how to implement such an \"environment\" in a very simple way using an python library called **Shapely**.\n",
    "\n",
    "License is based on Creative Commons: Attribution-NonCommercial 4.0 International (CC BY-NC 4.0) (pls. check: http://creativecommons.org/licenses/by-nc/4.0/)\n",
    "\n",
    "Important links are:\n",
    "\n",
    "* General Info: http://www.python.org\n",
    "* NetworkX http://networkx.github.io/\n",
    "* NumPy and SciPy Guide http://docs.scipy.org/\n",
    "* Matplotlib gallery https://matplotlib.org/stable/\n",
    "\n"
   ]
  },
  {
   "cell_type": "markdown",
   "metadata": {},
   "source": [
    "**Fehler bei shapely/descartes: Mit pip install --force-reinstall -v \"shapely==1.8.5.post1\" lässt sich die zur aktuellen descartes versioni kompatible Shapely-Variante installieren.**"
   ]
  },
  {
   "cell_type": "markdown",
   "metadata": {
    "slideshow": {
     "slide_type": "slide"
    }
   },
   "source": [
    "# Goal\n",
    "\n",
    "* Understanding how to set up a 2D testing Environment\n",
    "* Understanding hot to visualizing the environment\n",
    "* Understanding how to set up a collision checker for the path planning algorithms\n",
    "\n"
   ]
  },
  {
   "cell_type": "markdown",
   "metadata": {},
   "source": [
    "Set up the Environment\n",
    "======================\n",
    "\n",
    "The planning will take place in a certain environment. For testing it is sometimes useful to simplify the environment, e.g. taking a simple 2D approach.\n",
    "\n",
    "**Remember**: Even if the obstacles will be \"visible\", all our investigated algorithms have to assume, that these **obstacles are not visible (not explicitly computable)**, but have to be detected during search (implicit configuration space).\n"
   ]
  },
  {
   "cell_type": "markdown",
   "metadata": {},
   "source": [
    "\n",
    "As proposal the 2D-Python library Shapely seems to be a good choice (https://pypi.python.org/pypi/Shapely).\n",
    "\n",
    "Shapely is a BSD-licensed Python package for manipulation and analysis of planar geometric objects. It is based on the widely deployed GEOS (the engine of PostGIS) and JTS (from which GEOS is ported) libraries.\n",
    "\n",
    "Shapely provides much more functionality than needed. In the context of the lecture it will be used to test different geometric objects for collision.\n",
    "\n"
   ]
  },
  {
   "cell_type": "markdown",
   "metadata": {},
   "source": [
    "Idea\n",
    "-----\n",
    "\n",
    "The idea is to use the functionality provided by shapely and programmatically define the environemnt."
   ]
  },
  {
   "cell_type": "code",
   "metadata": {
    "tags": [],
    "ExecuteTime": {
     "end_time": "2025-05-30T08:45:26.697327Z",
     "start_time": "2025-05-30T08:45:25.649520Z"
    }
   },
   "source": [
    "import matplotlib.pyplot as plt\n",
    "#%matplotlib notebook\n",
    "\n",
    "# use following for pdf generation\n",
    "%matplotlib inline\n",
    "\n",
    "from shapely.geometry import Point, Polygon, LineString\n",
    "from shapely import plotting"
   ],
   "outputs": [],
   "execution_count": 1
  },
  {
   "cell_type": "markdown",
   "metadata": {},
   "source": [
    "Defining a scene\n",
    "-----------------\n",
    "\n",
    "1. Definition of obstacles via polygons. \n",
    "2. As storage a dict is proposed containing then the \"scene\""
   ]
  },
  {
   "cell_type": "code",
   "metadata": {
    "tags": [],
    "ExecuteTime": {
     "end_time": "2025-05-30T08:45:26.719877Z",
     "start_time": "2025-05-30T08:45:26.709880Z"
    }
   },
   "source": [
    "simpleField = dict()\n",
    "simpleField[\"obs1\"] = Polygon([(6, 14), (13, 14), (13, 11), (6,11)]).buffer(2.0)\n",
    "simpleField[\"obs2\"] = Polygon([(16, 5), (19, 5), (19, 3),(16,3)]).buffer(1.0)"
   ],
   "outputs": [],
   "execution_count": 2
  },
  {
   "cell_type": "markdown",
   "metadata": {},
   "source": [
    "Based on that scene definition a simple viszalization function can be written:"
   ]
  },
  {
   "cell_type": "code",
   "metadata": {
    "tags": [],
    "ExecuteTime": {
     "end_time": "2025-05-30T08:45:26.730374Z",
     "start_time": "2025-05-30T08:45:26.725945Z"
    }
   },
   "source": [
    "def drawScene(content, limits=[[0,23],[0,23]], figsize=(10,10)):\n",
    "    fig = plt.figure(figsize=figsize)\n",
    "    ax = fig.add_subplot(1,1,1)\n",
    "    ax.set_xlim(limits[0])\n",
    "    ax.set_ylim(limits[1])\n",
    "    for key, value in content.items():\n",
    "        plotting.plot_polygon(value, add_points=False)\n",
    "        "
   ],
   "outputs": [],
   "execution_count": 3
  },
  {
   "cell_type": "code",
   "metadata": {
    "collapsed": false,
    "jupyter": {
     "outputs_hidden": false
    },
    "ExecuteTime": {
     "end_time": "2025-05-30T08:45:26.877894Z",
     "start_time": "2025-05-30T08:45:26.736383Z"
    }
   },
   "source": [
    "drawScene(simpleField, figsize=(3,3))"
   ],
   "outputs": [
    {
     "data": {
      "text/plain": [
       "<Figure size 300x300 with 1 Axes>"
      ],
      "image/png": "[encoded data removed]"
     },
     "metadata": {},
     "output_type": "display_data"
    }
   ],
   "execution_count": 4
  },
  {
   "cell_type": "code",
   "metadata": {
    "tags": [],
    "ExecuteTime": {
     "end_time": "2025-05-30T08:45:27.476270Z",
     "start_time": "2025-05-30T08:45:27.472224Z"
    }
   },
   "source": [
    "trapField = dict()\n",
    "trapField[\"obs1\"] =   LineString([(6, 18), (6, 8), (16, 8), (16,18)]).buffer(1)"
   ],
   "outputs": [],
   "execution_count": 5
  },
  {
   "cell_type": "code",
   "metadata": {
    "collapsed": false,
    "jupyter": {
     "outputs_hidden": false
    },
    "ExecuteTime": {
     "end_time": "2025-05-30T08:45:27.575201Z",
     "start_time": "2025-05-30T08:45:27.484690Z"
    }
   },
   "source": [
    "drawScene(trapField, figsize=(5,5))"
   ],
   "outputs": [
    {
     "data": {
      "text/plain": [
       "<Figure size 500x500 with 1 Axes>"
      ],
      "image/png": "[encoded data removed]"
     },
     "metadata": {},
     "output_type": "display_data"
    }
   ],
   "execution_count": 6
  },
  {
   "cell_type": "markdown",
   "metadata": {},
   "source": [
    "For a more complicated example see:\n"
   ]
  },
  {
   "cell_type": "code",
   "metadata": {
    "tags": [],
    "ExecuteTime": {
     "end_time": "2025-05-30T08:45:27.599238Z",
     "start_time": "2025-05-30T08:45:27.589229Z"
    }
   },
   "source": [
    "special = dict()\n",
    "special[\"base\"] = LineString([(11,0),(11,18)]).buffer(0.5)\n",
    "for i in range(15):\n",
    "    target1 = (11-0.5*i,18-i)\n",
    "    target2 = (11+0.5*i,18-i)\n",
    "    special[\"partA\"+str(i)] = LineString([(11,18-i), target1 ]).buffer(0.2)\n",
    "    special[\"partB\"+str(i)] = LineString([(11,18-i), target2 ]).buffer(0.2)\n",
    "    if i % 2 == 0:\n",
    "        special[\"candA\"+str(i)] = LineString([target1, (target1[0], target1[1]+1.5)]).buffer(0.05)\n",
    "        special[\"candB\"+str(i)] = LineString([target2, (target2[0], target2[1]+1.5)]).buffer(0.05)"
   ],
   "outputs": [],
   "execution_count": 7
  },
  {
   "cell_type": "code",
   "metadata": {
    "scrolled": true,
    "tags": [],
    "ExecuteTime": {
     "end_time": "2025-05-30T08:45:27.851696Z",
     "start_time": "2025-05-30T08:45:27.618656Z"
    }
   },
   "source": [
    "drawScene(special)"
   ],
   "outputs": [
    {
     "data": {
      "text/plain": [
       "<Figure size 1000x1000 with 1 Axes>"
      ],
      "image/png": "[encoded data removed]"
     },
     "metadata": {},
     "output_type": "display_data"
    }
   ],
   "execution_count": 8
  },
  {
   "cell_type": "markdown",
   "metadata": {
    "tags": []
   },
   "source": [
    "Collision checking\n",
    "=================\n",
    "\n",
    "One advantage of using shapely is the ability to easily check geometric objects for **intersection** and **distance**.\n",
    "\n",
    "Point - Point\n",
    "---------------"
   ]
  },
  {
   "cell_type": "code",
   "metadata": {
    "tags": [],
    "ExecuteTime": {
     "end_time": "2025-05-30T08:45:27.871819Z",
     "start_time": "2025-05-30T08:45:27.866844Z"
    }
   },
   "source": [
    "object1 = Point([15,5]).buffer(0.1)\n",
    "object2 = Point([10,5]).buffer(4.)\n",
    "\n",
    "print(object1.intersects(object2))\n",
    "print(object1.distance(object2))"
   ],
   "outputs": [
    {
     "name": "stdout",
     "output_type": "stream",
     "text": [
      "False\n",
      "0.9000000000000004\n"
     ]
    }
   ],
   "execution_count": 9
  },
  {
   "cell_type": "code",
   "metadata": {
    "collapsed": false,
    "jupyter": {
     "outputs_hidden": false
    },
    "ExecuteTime": {
     "end_time": "2025-05-30T08:45:27.906777Z",
     "start_time": "2025-05-30T08:45:27.902780Z"
    }
   },
   "source": [
    "scene = dict()\n",
    "scene[\"ob1\"] = object1\n",
    "scene[\"ob2\"] = object2"
   ],
   "outputs": [],
   "execution_count": 10
  },
  {
   "cell_type": "code",
   "metadata": {
    "collapsed": false,
    "jupyter": {
     "outputs_hidden": false
    },
    "ExecuteTime": {
     "end_time": "2025-05-30T08:45:28.045958Z",
     "start_time": "2025-05-30T08:45:27.939448Z"
    }
   },
   "source": [
    "drawScene(scene, figsize=(3,3))"
   ],
   "outputs": [
    {
     "data": {
      "text/plain": [
       "<Figure size 300x300 with 1 Axes>"
      ],
      "image/png": "[encoded data removed]"
     },
     "metadata": {},
     "output_type": "display_data"
    }
   ],
   "execution_count": 11
  },
  {
   "cell_type": "markdown",
   "metadata": {},
   "source": [
    "Point-Line example\n",
    "-----------------------"
   ]
  },
  {
   "cell_type": "code",
   "metadata": {
    "collapsed": false,
    "jupyter": {
     "outputs_hidden": false
    },
    "ExecuteTime": {
     "end_time": "2025-05-30T08:45:28.069148Z",
     "start_time": "2025-05-30T08:45:28.062149Z"
    }
   },
   "source": [
    "lineScene = dict()\n",
    "lineScene[\"point\"] = Point([10,5]).buffer(1.0).buffer(1.0)\n",
    "lineScene[\"ob2\"] = LineString([[1,2],[10,10]]).buffer(.1)\n",
    "\n",
    "print(lineScene[\"point\"].intersects(lineScene[\"ob2\"]))\n",
    "print(lineScene[\"point\"].distance(lineScene[\"ob2\"]))\n"
   ],
   "outputs": [
    {
     "name": "stdout",
     "output_type": "stream",
     "text": [
      "False\n",
      "1.6378701585180127\n"
     ]
    }
   ],
   "execution_count": 12
  },
  {
   "cell_type": "code",
   "metadata": {
    "collapsed": false,
    "jupyter": {
     "outputs_hidden": false
    },
    "ExecuteTime": {
     "end_time": "2025-05-30T08:45:28.100387Z",
     "start_time": "2025-05-30T08:45:28.097157Z"
    }
   },
   "source": [
    "for key, obj in lineScene.items():\n",
    "    print(key)"
   ],
   "outputs": [
    {
     "name": "stdout",
     "output_type": "stream",
     "text": [
      "point\n",
      "ob2\n"
     ]
    }
   ],
   "execution_count": 13
  },
  {
   "cell_type": "code",
   "metadata": {
    "collapsed": false,
    "jupyter": {
     "outputs_hidden": false
    },
    "ExecuteTime": {
     "end_time": "2025-05-30T08:45:28.218591Z",
     "start_time": "2025-05-30T08:45:28.130242Z"
    }
   },
   "source": [
    "drawScene(lineScene, figsize=(5,5))"
   ],
   "outputs": [
    {
     "data": {
      "text/plain": [
       "<Figure size 500x500 with 1 Axes>"
      ],
      "image/png": "[encoded data removed]"
     },
     "metadata": {},
     "output_type": "display_data"
    }
   ],
   "execution_count": 14
  },
  {
   "cell_type": "markdown",
   "metadata": {},
   "source": [
    "Definition of an CollisionChecker\n",
    "===================================\n",
    "\n",
    "Following a proposal for a collision checker based on Shapely."
   ]
  },
  {
   "cell_type": "code",
   "metadata": {
    "collapsed": false,
    "jupyter": {
     "outputs_hidden": false
    },
    "ExecuteTime": {
     "end_time": "2025-05-30T08:45:28.236139Z",
     "start_time": "2025-05-30T08:45:28.226980Z"
    }
   },
   "source": [
    "class CollisionChecker(object):\n",
    "\n",
    "    def __init__(self, scene, limits = [[0.0,22.0],[0.0,22.0]], statistic = None):\n",
    "        self.scene = scene\n",
    "        self.limits = limits\n",
    "        \n",
    "    def getDim(self):\n",
    "        \"\"\" Return dimension of Environment (Shapely should currently always be 2)\"\"\"\n",
    "        return 2\n",
    "    \n",
    "    def getEnvironmentLimits(self):\n",
    "        \"\"\" Return limits of Environment\"\"\"\n",
    "        return list(self.limits)\n",
    "\n",
    "    def pointInCollision(self, pos):\n",
    "        \"\"\" Return whether a configuration is\n",
    "        inCollision -> True\n",
    "        Free -> False \"\"\"\n",
    "        assert(len(pos)==self.getDim())\n",
    "        for key, value in self.scene.items():\n",
    "            if value.intersects(Point(pos[0],pos[1])):              \n",
    "                return True\n",
    "        return False\n",
    "\n",
    "    def lineInCollision(self, startPos, endPos):\n",
    "        \"\"\" Check whether a line from startPos to endPos is colliding\"\"\"\n",
    "        assert(len(startPos)==self.getDim())\n",
    "        assert(len(endPos)==self.getDim())\n",
    "       \n",
    "        for key, value in self.scene.items():\n",
    "            if value.intersects(LineString([(startPos[0],startPos[1]),(endPos[0],endPos[1])])):\n",
    "                return True\n",
    "        return False\n",
    "    \n",
    "    def drawObstacles(self, ax):\n",
    "        for key, value in self.scene.items():\n",
    "            plotting.plot_polygon(value, add_points=False, ax=ax)"
   ],
   "outputs": [],
   "execution_count": 15
  },
  {
   "cell_type": "markdown",
   "metadata": {},
   "source": [
    "Testing and using the collision checker\n",
    "------------------------------------------"
   ]
  },
  {
   "cell_type": "code",
   "metadata": {
    "ExecuteTime": {
     "end_time": "2025-05-30T08:45:28.253395Z",
     "start_time": "2025-05-30T08:45:28.248233Z"
    }
   },
   "source": [
    "lineScene = dict()\n",
    "lineScene[\"point\"] = Point([10,5]).buffer(1.0).buffer(1.0)\n",
    "lineScene[\"ob2\"] = LineString([[1,2],[10,10]]).buffer(1.0)\n"
   ],
   "outputs": [],
   "execution_count": 16
  },
  {
   "cell_type": "code",
   "metadata": {
    "ExecuteTime": {
     "end_time": "2025-05-30T08:45:28.266209Z",
     "start_time": "2025-05-30T08:45:28.262885Z"
    }
   },
   "source": [
    "cc = CollisionChecker(lineScene)"
   ],
   "outputs": [],
   "execution_count": 17
  },
  {
   "cell_type": "markdown",
   "metadata": {},
   "source": [
    "As the drawing function is now part of the collision checker, the figure and draw area has to be defined beforehand."
   ]
  },
  {
   "cell_type": "code",
   "metadata": {
    "collapsed": false,
    "jupyter": {
     "outputs_hidden": false
    },
    "ExecuteTime": {
     "end_time": "2025-05-30T08:45:28.395762Z",
     "start_time": "2025-05-30T08:45:28.281808Z"
    }
   },
   "source": [
    "fig = plt.figure(figsize=(5,5))\n",
    "ax = fig.add_subplot(1,1,1)\n",
    "limits = cc.getEnvironmentLimits()\n",
    "ax.set_xlim(limits[0])\n",
    "ax.set_ylim(limits[1])\n",
    "\n",
    "cc.drawObstacles(ax)"
   ],
   "outputs": [
    {
     "data": {
      "text/plain": [
       "<Figure size 500x500 with 1 Axes>"
      ],
      "image/png": "[encoded data removed]"
     },
     "metadata": {},
     "output_type": "display_data"
    }
   ],
   "execution_count": 18
  },
  {
   "cell_type": "code",
   "metadata": {
    "collapsed": false,
    "jupyter": {
     "outputs_hidden": false
    },
    "ExecuteTime": {
     "end_time": "2025-05-30T08:45:28.422532Z",
     "start_time": "2025-05-30T08:45:28.418419Z"
    }
   },
   "source": [
    "print(cc.pointInCollision([10,10]))\n",
    "print(cc.pointInCollision([2,5]))"
   ],
   "outputs": [
    {
     "name": "stdout",
     "output_type": "stream",
     "text": [
      "True\n",
      "False\n"
     ]
    }
   ],
   "execution_count": 19
  },
  {
   "cell_type": "code",
   "metadata": {
    "collapsed": false,
    "jupyter": {
     "outputs_hidden": false
    },
    "ExecuteTime": {
     "end_time": "2025-05-30T08:45:28.440724Z",
     "start_time": "2025-05-30T08:45:28.436541Z"
    }
   },
   "source": [
    "print(cc.lineInCollision([5,0],[5,10]))\n",
    "print(cc.lineInCollision([5,0],[10,0]))"
   ],
   "outputs": [
    {
     "name": "stdout",
     "output_type": "stream",
     "text": [
      "True\n",
      "False\n"
     ]
    }
   ],
   "execution_count": 20
  },
  {
   "metadata": {
    "ExecuteTime": {
     "end_time": "2025-05-30T08:45:28.593516Z",
     "start_time": "2025-05-30T08:45:28.469767Z"
    }
   },
   "cell_type": "code",
   "source": [
    "def drawScene(content, limits=[[0, 23], [0, 23]], figsize=(10, 10)):\n",
    "    fig = plt.figure(figsize=figsize)\n",
    "    ax = fig.add_subplot(1, 1, 1)\n",
    "    ax.set_xlim(limits[0])\n",
    "    ax.set_ylim(limits[1])\n",
    "    for key, value in content.items():\n",
    "        plotting.plot_polygon(value, add_points=False)\n",
    "\n",
    "\n",
    "env = dict()\n",
    "\n",
    "# Start- und Zielzonen\n",
    "env[\"start\"] = Point(2, 2).buffer(0.8)\n",
    "env[\"goal\"] = Point(21, 21).buffer(0.8)\n",
    "\n",
    "# Zwei große Blöcke links/rechts mit Durchlass\n",
    "env[\"blockL1\"] = Polygon([(4, 4), (9, 4), (9, 10), (4, 10)])\n",
    "env[\"blockR1\"] = Polygon([(14, 4), (19, 4), (19, 10), (14, 10)])\n",
    "\n",
    "# Durchlass in der Mitte\n",
    "env[\"middle_pass\"] = Polygon([(10.5, 4), (12.5, 4), (12.5, 10), (10.5, 10)])\n",
    "\n",
    "# Zweite Hindernisreihe mit versetztem Durchgang\n",
    "env[\"blockL2\"] = Polygon([(4, 13), (8, 13), (8, 18), (4, 18)])\n",
    "env[\"blockR2\"] = Polygon([(15, 13), (19, 13), (19, 18), (15, 18)])\n",
    "\n",
    "# Engstelle oben\n",
    "env[\"narrow\"] = Polygon([(10.5, 14), (12.5, 14), (12.5, 15), (10.5, 15)])\n",
    "\n",
    "# Optional: kleine Sackgassen, um Fallen zu erzeugen\n",
    "env[\"trap1\"] = Polygon([(8, 11), (9, 11), (9, 12), (8, 12)])\n",
    "env[\"trap2\"] = Polygon([(14, 11), (15, 11), (15, 12), (14, 12)])\n",
    "\n",
    "# Mauer am Rand\n",
    "env[\"wall_bottom\"] = LineString([(0, 0), (23, 0)]).buffer(0.5)\n",
    "env[\"wall_top\"] = LineString([(0, 23), (23, 23)]).buffer(0.5)\n",
    "env[\"wall_left\"] = LineString([(0, 0), (0, 23)]).buffer(0.5)\n",
    "env[\"wall_right\"] = LineString([(23, 0), (23, 23)]).buffer(0.5)\n",
    "\n",
    "# Zeichnen\n",
    "drawScene(env, figsize=(8, 8))"
   ],
   "outputs": [
    {
     "data": {
      "text/plain": [
       "<Figure size 800x800 with 1 Axes>"
      ],
      "image/png": "[encoded data removed]"
     },
     "metadata": {},
     "output_type": "display_data"
    }
   ],
   "execution_count": 21
  },
  {
   "metadata": {
    "ExecuteTime": {
     "end_time": "2025-05-30T08:59:58.065727Z",
     "start_time": "2025-05-30T08:59:57.967530Z"
    }
   },
   "cell_type": "code",
   "source": [
    "def drawScene(content, limits=[[0, 23], [0, 23]], figsize=(6, 6)):\n",
    "    fig = plt.figure(figsize=figsize)\n",
    "    ax = fig.add_subplot(1, 1, 1)\n",
    "    ax.set_xlim(limits[0])\n",
    "    ax.set_ylim(limits[1])\n",
    "    ax.set_aspect(\"equal\")\n",
    "    for key, value in content.items():\n",
    "        plotting.plot_polygon(value, add_points=False)\n",
    "    plt.show()\n",
    "\n",
    "# Emoji ohne Gesichtskreis\n",
    "emoji = dict()\n",
    "\n",
    "# Augen\n",
    "emoji[\"eye_left\"] = Point(8.5, 14.5).buffer(0.6)\n",
    "emoji[\"eye_right\"] = Point(14.5, 14.5).buffer(0.6)\n",
    "\n",
    "# Augenbrauen\n",
    "emoji[\"brow_left\"] = Polygon([(7.7, 15.6), (9.3, 15.6), (9.0, 15.9), (8.0, 15.9)])\n",
    "emoji[\"brow_right\"] = Polygon([(13.7, 15.6), (15.3, 15.6), (15.0, 15.9), (14.0, 15.9)])\n",
    "\n",
    "# Nase\n",
    "emoji[\"nose\"] = Polygon([(11.0, 12.5), (12.0, 12.5), (11.5, 10.5)])\n",
    "\n",
    "# Mund\n",
    "outer = Point(11.5, 9).buffer(3.0)\n",
    "inner = Point(11.5, 10.2).buffer(3.0)\n",
    "emoji[\"mouth\"] = outer.difference(inner)\n",
    "\n",
    "# Hut (ein Rechteck + Krempe)\n",
    "emoji[\"hat_brim\"] = Polygon([(7, 17), (16, 17), (16, 17.5), (7, 17.5)])\n",
    "emoji[\"hat_top\"] = Polygon([(9, 17.5), (14, 17.5), (14, 20), (9, 20)])\n",
    "\n",
    "# Zeichnen\n",
    "drawScene(emoji, figsize=(6, 6))\n"
   ],
   "outputs": [
    {
     "data": {
      "text/plain": [
       "<Figure size 600x600 with 1 Axes>"
      ],
      "image/png": "[encoded data removed]"
     },
     "metadata": {},
     "output_type": "display_data"
    }
   ],
   "execution_count": 40
  },
  {
   "cell_type": "code",
   "metadata": {
    "ExecuteTime": {
     "end_time": "2025-05-30T08:45:28.815900Z",
     "start_time": "2025-05-30T08:45:28.810959Z"
    }
   },
   "source": [
    "<szenenName> = dict()\n",
    "<szenenName>[\"obs1\"] = Polygon([(0, 8), (11, 8),(11, 15), (0, 15)]).buffer(.5)\n",
    "<szenenName>[\"obs2\"] = Polygon([(13, 8), (24, 8),(24, 15), (13, 15)]).buffer(.5)\n",
    "description = \"Planer has to find a narrow passage with a significant extend.\"\n",
    "benchList.append(Benchmark(\"aName\", CollisionChecker(<szenenName>), [[4,21]], [[18,1]], description, 2))"
   ],
   "outputs": [
    {
     "ename": "SyntaxError",
     "evalue": "invalid syntax (2559301415.py, line 1)",
     "output_type": "error",
     "traceback": [
      "\u001B[1;36m  Cell \u001B[1;32mIn[23], line 1\u001B[1;36m\u001B[0m\n\u001B[1;33m    <szenenName> = dict()\u001B[0m\n\u001B[1;37m    ^\u001B[0m\n\u001B[1;31mSyntaxError\u001B[0m\u001B[1;31m:\u001B[0m invalid syntax\n"
     ]
    }
   ],
   "execution_count": 23
  },
  {
   "cell_type": "code",
   "execution_count": null,
   "metadata": {},
   "outputs": [],
   "source": [
    "import IPTestSuite as ts\n",
    "import matplotlib.pylab as plt"
   ]
  },
  {
   "cell_type": "code",
   "metadata": {
    "ExecuteTime": {
     "end_time": "2025-05-30T08:45:28.902024600Z",
     "start_time": "2025-05-23T09:33:31.408373Z"
    }
   },
   "source": [
    "for i in ts.benchList:\n",
    "    fig = plt.figure(figsize=(5,5))\n",
    "    ax = fig.add_subplot(1,1,1)\n",
    "    limits = i.collisionChecker.getEnvironmentLimits()\n",
    "    ax.set_xlim(limits[0])\n",
    "    ax.set_ylim(limits[1])\n",
    "    i.collisionChecker.drawObstacles(ax)"
   ],
   "outputs": [
    {
     "ename": "NameError",
     "evalue": "name 'ts' is not defined",
     "output_type": "error",
     "traceback": [
      "\u001B[0;31m---------------------------------------------------------------------------\u001B[0m",
      "\u001B[0;31mNameError\u001B[0m                                 Traceback (most recent call last)",
      "Cell \u001B[0;32mIn[44], line 1\u001B[0m\n\u001B[0;32m----> 1\u001B[0m \u001B[38;5;28;01mfor\u001B[39;00m i \u001B[38;5;129;01min\u001B[39;00m \u001B[43mts\u001B[49m\u001B[38;5;241m.\u001B[39mbenchList:\n\u001B[1;32m      2\u001B[0m     fig \u001B[38;5;241m=\u001B[39m plt\u001B[38;5;241m.\u001B[39mfigure(figsize\u001B[38;5;241m=\u001B[39m(\u001B[38;5;241m5\u001B[39m,\u001B[38;5;241m5\u001B[39m))\n\u001B[1;32m      3\u001B[0m     ax \u001B[38;5;241m=\u001B[39m fig\u001B[38;5;241m.\u001B[39madd_subplot(\u001B[38;5;241m1\u001B[39m,\u001B[38;5;241m1\u001B[39m,\u001B[38;5;241m1\u001B[39m)\n",
      "\u001B[0;31mNameError\u001B[0m: name 'ts' is not defined"
     ]
    }
   ],
   "execution_count": 44
  }
 ],
 "metadata": {
  "kernelspec": {
   "display_name": "Python 3 (ipykernel)",
   "language": "python",
   "name": "python3"
  },
  "language_info": {
   "codemirror_mode": {
    "name": "ipython",
    "version": 3
   },
   "file_extension": ".py",
   "mimetype": "text/x-python",
   "name": "python",
   "nbconvert_exporter": "python",
   "pygments_lexer": "ipython3",
   "version": "3.13.2"
  }
 },
 "nbformat": 4,
 "nbformat_minor": 4
}
