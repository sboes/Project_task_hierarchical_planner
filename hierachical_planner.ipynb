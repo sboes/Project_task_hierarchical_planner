{
 "cells": [
  {
   "cell_type": "code",
   "id": "initial_id",
   "metadata": {
    "collapsed": true,
    "ExecuteTime": {
     "end_time": "2025-06-28T09:10:13.738183Z",
     "start_time": "2025-06-28T09:10:13.661430Z"
    }
   },
   "source": [
    "import numpy as np\n",
    "import scipy "
   ],
   "outputs": [],
   "execution_count": 1
  },
  {
   "cell_type": "markdown",
   "id": "fac47cd5",
   "metadata": {},
   "source": [
    "Text to explain something\n",
    "\n",
    "$ x^2+5=0 $\n"
   ]
  },
  {
   "cell_type": "code",
   "execution_count": null,
   "id": "1cb779ec",
   "metadata": {},
   "outputs": [],
   "source": []
  }
 ],
 "metadata": {
  "kernelspec": {
   "display_name": "base",
   "language": "python",
   "name": "python3"
  },
  "language_info": {
   "codemirror_mode": {
    "name": "ipython",
    "version": 3
   },
   "file_extension": ".py",
   "mimetype": "text/x-python",
   "name": "python",
   "nbconvert_exporter": "python",
   "pygments_lexer": "ipython3",
   "version": "3.12.3"
  }
 },
 "nbformat": 4,
 "nbformat_minor": 5
}
